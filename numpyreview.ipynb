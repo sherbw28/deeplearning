{
  "cells": [
    {
      "cell_type": "markdown",
      "metadata": {
        "colab_type": "text",
        "id": "view-in-github"
      },
      "source": [
        "<a href=\"https://colab.research.google.com/github/sherbw28/class_deep/blob/main/numpyreview.ipynb\" target=\"_parent\"><img src=\"https://colab.research.google.com/assets/colab-badge.svg\" alt=\"Open In Colab\"/></a>"
      ]
    },
    {
      "cell_type": "code",
      "execution_count": 2,
      "metadata": {
        "colab": {
          "base_uri": "https://localhost:8080/"
        },
        "id": "r1bVOShMg1jo",
        "outputId": "36c24ba3-4e63-4b70-c6de-031d9386124d"
      },
      "outputs": [
        {
          "name": "stdout",
          "output_type": "stream",
          "text": [
            "[1. 2. 3. 4. 5.]\n",
            "[1 2 3]\n",
            "<class 'numpy.ndarray'>\n"
          ]
        },
        {
          "data": {
            "text/plain": [
              "array([[ 1,  2,  3,  4,  5],\n",
              "       [10, 20, 30, 40, 50]])"
            ]
          },
          "execution_count": 2,
          "metadata": {},
          "output_type": "execute_result"
        }
      ],
      "source": [
        "import numpy as  np\n",
        "x = np.array([1.0, 2.0, 3.0, 4.0, 5.0])\n",
        "print(x)\n",
        "\n",
        "x = np.array([1,2,3])\n",
        "print(x)\n",
        "print(type(x))\n",
        "\n",
        "my_list1 = [1,2,3,4,5]\n",
        "my_array1 = np.array(my_list1)\n",
        "\n",
        "my_list2 = [10,20,30,40,50]\n",
        "my_lists = [my_list1, my_list2]\n",
        "my_lists\n",
        "\n",
        "my_array2 = np.array(my_lists)\n",
        "\n",
        "my_array2"
      ]
    },
    {
      "cell_type": "code",
      "execution_count": 3,
      "metadata": {
        "colab": {
          "base_uri": "https://localhost:8080/"
        },
        "id": "YYEhU1hehSmF",
        "outputId": "3d260611-4cc2-4112-c073-b57be490124d"
      },
      "outputs": [
        {
          "data": {
            "text/plain": [
              "(2, 2)"
            ]
          },
          "execution_count": 3,
          "metadata": {},
          "output_type": "execute_result"
        }
      ],
      "source": [
        "a = np.array([1, 2, 3, 4])\n",
        "a.shape\n",
        "\n",
        "b = np.array([[1, 2],[3,4]])\n",
        "b.shape"
      ]
    },
    {
      "cell_type": "code",
      "execution_count": 4,
      "metadata": {
        "colab": {
          "base_uri": "https://localhost:8080/"
        },
        "id": "Iy6rhkythj6t",
        "outputId": "b4b796fd-d1ef-4e81-d73f-d23fd52abebc"
      },
      "outputs": [
        {
          "name": "stdout",
          "output_type": "stream",
          "text": [
            "[0 1 2 3 4 5 6 7 8 9]\n",
            "[[1 2 3]\n",
            " [4 5 6]\n",
            " [7 8 9]]\n",
            "[[1 2 3]\n",
            " [4 5 6]\n",
            " [7 8 9]]\n",
            "[[ 2  4  6]\n",
            " [ 8 10 12]\n",
            " [14 16 18]]\n",
            "[[0 0 0]\n",
            " [0 0 0]\n",
            " [0 0 0]]\n",
            "[[ 1  4  9]\n",
            " [16 25 36]\n",
            " [49 64 81]]\n"
          ]
        }
      ],
      "source": [
        "x = np.arange(10)\n",
        "print(x)\n",
        "\n",
        "x = np.arange(1, 10).reshape(3,3)\n",
        "y = np.arange(1, 10).reshape(3,3)\n",
        "\n",
        "print(x)\n",
        "print(y)\n",
        "\n",
        "print(x + y)\n",
        "print(x - y)\n",
        "print(x * y)"
      ]
    },
    {
      "cell_type": "code",
      "execution_count": 5,
      "metadata": {
        "colab": {
          "base_uri": "https://localhost:8080/"
        },
        "id": "8G3DwM94iEZM",
        "outputId": "5b91793a-c3cd-463a-de15-0ef819fadf31"
      },
      "outputs": [
        {
          "name": "stdout",
          "output_type": "stream",
          "text": [
            "[0 1 2 3 4 5 6 7 8 9]\n",
            "[[0 1 2 3 4]\n",
            " [5 6 7 8 9]]\n",
            "[[ 1  2  3  7  8  9]\n",
            " [ 4  5  6 10 11 12]]\n",
            "[[ 1  2  3  7  8  9]\n",
            " [ 4  5  6 10 11 12]]\n",
            "[[ 1  2  3]\n",
            " [ 4  5  6]\n",
            " [ 7  8  9]\n",
            " [10 11 12]]\n",
            "[[ 1  2  3]\n",
            " [ 4  5  6]\n",
            " [ 7  8  9]\n",
            " [10 11 12]]\n"
          ]
        }
      ],
      "source": [
        "sample_array = np.arange(10)\n",
        "print(sample_array)\n",
        "\n",
        "sample_array2 = sample_array.reshape(2,5)\n",
        "print(sample_array2)\n",
        "\n",
        "sample_array3 = np.array([[1,2,3],[4,5,6]])\n",
        "sample_array4 = np.array([[7,8,9],[10,11,12]])\n",
        "\n",
        "print(np.concatenate([sample_array3,sample_array4],axis=1))\n",
        "\n",
        "print(np.hstack((sample_array3,sample_array4)))\n",
        "\n",
        "print(np.concatenate([sample_array3,sample_array4],axis=0))\n",
        "\n",
        "print(np.vstack((sample_array3,sample_array4)))"
      ]
    },
    {
      "cell_type": "code",
      "execution_count": 6,
      "metadata": {
        "colab": {
          "base_uri": "https://localhost:8080/"
        },
        "id": "FYimzmlfiK_m",
        "outputId": "e41dfab0-0afb-40e2-a455-3d7a35370772"
      },
      "outputs": [
        {
          "name": "stdout",
          "output_type": "stream",
          "text": [
            "[0 1 2 3 4 5 6 7 8 9]\n",
            "[ 5  6  7  8  9 10 11 12 13 14]\n"
          ]
        }
      ],
      "source": [
        "sample_array = np.arange(10)\n",
        "print(sample_array)\n",
        "\n",
        "print(sample_array + 5)"
      ]
    },
    {
      "cell_type": "code",
      "execution_count": 7,
      "metadata": {
        "colab": {
          "base_uri": "https://localhost:8080/"
        },
        "id": "56eTsiKMiNuw",
        "outputId": "177f42f4-f34e-4cbc-885b-0c9511cfb3a4"
      },
      "outputs": [
        {
          "name": "stdout",
          "output_type": "stream",
          "text": [
            "[1 2 3 4 5]\n",
            "[[1 2]\n",
            " [3 4]\n",
            " [5 6]]\n",
            "2\n"
          ]
        }
      ],
      "source": [
        "n1 = np.array([1,2,3,4,5])\n",
        "print(n1) # [1 2 3 4 5]\n",
        "\n",
        "np.ndim(n1)\n",
        "\n",
        "n1.shape\n",
        "\n",
        "\n",
        "n2 = np.array([[1,2], [3,4], [5,6]])\n",
        "print(n2)\n",
        "\n",
        "print(n2.ndim) # 2"
      ]
    },
    {
      "cell_type": "code",
      "execution_count": 8,
      "metadata": {
        "colab": {
          "base_uri": "https://localhost:8080/"
        },
        "id": "YMDVrlIOi1gK",
        "outputId": "c0c8d0c8-65df-480e-df48-520a45a1314a"
      },
      "outputs": [
        {
          "data": {
            "text/plain": [
              "array([[-1,  4],\n",
              "       [ 3,  2],\n",
              "       [ 2,  5],\n",
              "       [ 0,  1]])"
            ]
          },
          "execution_count": 8,
          "metadata": {},
          "output_type": "execute_result"
        }
      ],
      "source": [
        "my_li1 = [-1,4]\n",
        "\n",
        "my_li2 = [3,2]\n",
        "\n",
        "my_li3 = [2,5]\n",
        "\n",
        "my_li4 = [0,1]\n",
        "\n",
        "my_lists = [my_li1,my_li2,my_li3,my_li4]\n",
        "\n",
        "my_array3 = np.array(my_lists)\n",
        "\n",
        "my_array3"
      ]
    },
    {
      "cell_type": "code",
      "execution_count": null,
      "metadata": {
        "id": "G6FdmQ9Zi65l"
      },
      "outputs": [],
      "source": []
    }
  ],
  "metadata": {
    "colab": {
      "authorship_tag": "ABX9TyMOEc7jNdCbLiUetYI1cDXo",
      "include_colab_link": true,
      "provenance": []
    },
    "kernelspec": {
      "display_name": "Python 3",
      "language": "python",
      "name": "python3"
    },
    "language_info": {
      "name": "python",
      "version": "3.10.2 (v3.10.2:a58ebcc701, Jan 13 2022, 14:50:16) [Clang 13.0.0 (clang-1300.0.29.30)]"
    },
    "vscode": {
      "interpreter": {
        "hash": "aee8b7b246df8f9039afb4144a1f6fd8d2ca17a180786b69acc140d282b71a49"
      }
    }
  },
  "nbformat": 4,
  "nbformat_minor": 0
}
