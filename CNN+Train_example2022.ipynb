{
  "cells": [
    {
      "cell_type": "markdown",
      "metadata": {
        "colab_type": "text",
        "id": "view-in-github"
      },
      "source": [
        "<a href=\"https://colab.research.google.com/github/sherbw28/class_deep/blob/main/CNN%2BTrain_example2022.ipynb\" target=\"_parent\"><img src=\"https://colab.research.google.com/assets/colab-badge.svg\" alt=\"Open In Colab\"/></a>"
      ]
    },
    {
      "cell_type": "code",
      "execution_count": 1,
      "metadata": {
        "id": "-pvK_CyisThC"
      },
      "outputs": [],
      "source": [
        "from keras.models import Sequential, Model\n",
        "from keras.layers import Dense, Flatten, Conv2D"
      ]
    },
    {
      "cell_type": "code",
      "execution_count": 2,
      "metadata": {
        "id": "kjQOVti_596T"
      },
      "outputs": [],
      "source": [
        "import keras"
      ]
    },
    {
      "cell_type": "code",
      "execution_count": 3,
      "metadata": {
        "id": "lMRTmfPutQYZ"
      },
      "outputs": [],
      "source": [
        "from IPython.display import SVG\n",
        "from keras.utils.vis_utils import model_to_dot"
      ]
    },
    {
      "cell_type": "code",
      "execution_count": 4,
      "metadata": {
        "id": "KV3YV5jP3P-o"
      },
      "outputs": [],
      "source": [
        "# 乱数を作るためにNumpyをimport\n",
        "import numpy as np # importして、npという別名を設定\n",
        "# 早期終了（Early Stopping）のためのライブラリをimport\n",
        "import keras.callbacks as callbacks # callbacksという別名を設定"
      ]
    },
    {
      "cell_type": "code",
      "execution_count": 5,
      "metadata": {
        "id": "dLMhfmz41jq_"
      },
      "outputs": [],
      "source": [
        "# 学習用データをx_trainとして作る\n",
        "x_train = np.random.random((100, 6, 6, 1))\n",
        "# 学習用データの正解をy_trainとして作る\n",
        "y_train = keras.utils.to_categorical(np.random.randint(10, size=(100, 1)), num_classes = 10)"
      ]
    },
    {
      "cell_type": "code",
      "execution_count": 6,
      "metadata": {
        "id": "Rw48Msgh7ccj"
      },
      "outputs": [],
      "source": [
        "# テスト検証用データをx_testとして作る\n",
        "# (6, 6, 1)の形を今度は20セット分\n",
        "x_test = np.random.random((20, 6, 6, 1))\n",
        "# テスト検証用データの正解をy_testとして作る\n",
        "y_test = keras.utils.to_categorical(np.random.randint(10, size=(20, 1)), num_classes = 10)"
      ]
    },
    {
      "cell_type": "code",
      "execution_count": 7,
      "metadata": {
        "id": "w6EBMiYot6N-"
      },
      "outputs": [],
      "source": [
        "model = Sequential()"
      ]
    },
    {
      "cell_type": "code",
      "execution_count": 8,
      "metadata": {
        "id": "qe8FXcs6ulBb"
      },
      "outputs": [],
      "source": [
        "# 畳み込み層追加\n",
        "model.add(Conv2D(\n",
        "    filters=3, # フィルター３パターン\n",
        "    kernel_size=(3, 3), # 受容野のサイズ縦3, 横3\n",
        "    kernel_initializer='lecun_uniform',\n",
        "    input_shape=(6, 6, 1), # 入力データの形縦6, 横6\n",
        "    name='Conv2D_1'\n",
        "    ))"
      ]
    },
    {
      "cell_type": "markdown",
      "metadata": {
        "id": "w7_AMy9pAzAu"
      },
      "source": [
        "### その他の層も追加する"
      ]
    },
    {
      "cell_type": "code",
      "execution_count": 9,
      "metadata": {
        "id": "TNtVUGogA9Xn"
      },
      "outputs": [],
      "source": [
        "# 全結合層\n",
        "model.add(Flatten(\n",
        "    name='Flatten_1'\n",
        "    ))\n",
        "# softmaxで分類するニューロン層\n",
        "model.add(Dense(units = 10, activation = 'softmax', name = 'Dense_1'))"
      ]
    },
    {
      "cell_type": "code",
      "execution_count": 10,
      "metadata": {
        "colab": {
          "base_uri": "https://localhost:8080/",
          "height": 426
        },
        "id": "yr-NtKSdv2cH",
        "outputId": "cfc24dec-9cd6-4b0b-b811-743c56ccd075"
      },
      "outputs": [
        {
          "data": {
            "image/svg+xml": "<svg xmlns=\"http://www.w3.org/2000/svg\" xmlns:xlink=\"http://www.w3.org/1999/xlink\" width=\"368pt\" height=\"304pt\" viewBox=\"0.00 0.00 368.00 304.00\">\n<g id=\"graph0\" class=\"graph\" transform=\"scale(1 1) rotate(0) translate(4 300)\">\n<title>G</title>\n<polygon fill=\"#ffffff\" stroke=\"transparent\" points=\"-4,4 -4,-300 364,-300 364,4 -4,4\"/>\n<!-- dpi -->\n<g id=\"node1\" class=\"node\">\n<title>dpi</title>\n<ellipse fill=\"none\" stroke=\"#000000\" cx=\"27\" cy=\"-272.5\" rx=\"27\" ry=\"18\"/>\n<text text-anchor=\"middle\" x=\"27\" y=\"-268.8\" font-family=\"Times,serif\" font-size=\"14.00\" fill=\"#000000\">dpi</text>\n</g>\n<!-- 139725343717744 -->\n<g id=\"node2\" class=\"node\">\n<title>139725343717744</title>\n<polygon fill=\"none\" stroke=\"#000000\" points=\"72,-249.5 72,-295.5 360,-295.5 360,-249.5 72,-249.5\"/>\n<text text-anchor=\"middle\" x=\"131.5\" y=\"-280.3\" font-family=\"Times,serif\" font-size=\"14.00\" fill=\"#000000\">Conv2D_1_input</text>\n<polyline fill=\"none\" stroke=\"#000000\" points=\"72,-272.5 191,-272.5 \"/>\n<text text-anchor=\"middle\" x=\"131.5\" y=\"-257.3\" font-family=\"Times,serif\" font-size=\"14.00\" fill=\"#000000\">InputLayer</text>\n<polyline fill=\"none\" stroke=\"#000000\" points=\"191,-249.5 191,-295.5 \"/>\n<text text-anchor=\"middle\" x=\"220\" y=\"-280.3\" font-family=\"Times,serif\" font-size=\"14.00\" fill=\"#000000\">input:</text>\n<polyline fill=\"none\" stroke=\"#000000\" points=\"191,-272.5 249,-272.5 \"/>\n<text text-anchor=\"middle\" x=\"220\" y=\"-257.3\" font-family=\"Times,serif\" font-size=\"14.00\" fill=\"#000000\">output:</text>\n<polyline fill=\"none\" stroke=\"#000000\" points=\"249,-249.5 249,-295.5 \"/>\n<text text-anchor=\"middle\" x=\"304.5\" y=\"-280.3\" font-family=\"Times,serif\" font-size=\"14.00\" fill=\"#000000\">[(None, 6, 6, 1)]</text>\n<polyline fill=\"none\" stroke=\"#000000\" points=\"249,-272.5 360,-272.5 \"/>\n<text text-anchor=\"middle\" x=\"304.5\" y=\"-257.3\" font-family=\"Times,serif\" font-size=\"14.00\" fill=\"#000000\">[(None, 6, 6, 1)]</text>\n</g>\n<!-- 139725343718320 -->\n<g id=\"node3\" class=\"node\">\n<title>139725343718320</title>\n<polygon fill=\"none\" stroke=\"#000000\" points=\"95,-166.5 95,-212.5 337,-212.5 337,-166.5 95,-166.5\"/>\n<text text-anchor=\"middle\" x=\"136\" y=\"-197.3\" font-family=\"Times,serif\" font-size=\"14.00\" fill=\"#000000\">Conv2D_1</text>\n<polyline fill=\"none\" stroke=\"#000000\" points=\"95,-189.5 177,-189.5 \"/>\n<text text-anchor=\"middle\" x=\"136\" y=\"-174.3\" font-family=\"Times,serif\" font-size=\"14.00\" fill=\"#000000\">Conv2D</text>\n<polyline fill=\"none\" stroke=\"#000000\" points=\"177,-166.5 177,-212.5 \"/>\n<text text-anchor=\"middle\" x=\"206\" y=\"-197.3\" font-family=\"Times,serif\" font-size=\"14.00\" fill=\"#000000\">input:</text>\n<polyline fill=\"none\" stroke=\"#000000\" points=\"177,-189.5 235,-189.5 \"/>\n<text text-anchor=\"middle\" x=\"206\" y=\"-174.3\" font-family=\"Times,serif\" font-size=\"14.00\" fill=\"#000000\">output:</text>\n<polyline fill=\"none\" stroke=\"#000000\" points=\"235,-166.5 235,-212.5 \"/>\n<text text-anchor=\"middle\" x=\"286\" y=\"-197.3\" font-family=\"Times,serif\" font-size=\"14.00\" fill=\"#000000\">(None, 6, 6, 1)</text>\n<polyline fill=\"none\" stroke=\"#000000\" points=\"235,-189.5 337,-189.5 \"/>\n<text text-anchor=\"middle\" x=\"286\" y=\"-174.3\" font-family=\"Times,serif\" font-size=\"14.00\" fill=\"#000000\">(None, 4, 4, 3)</text>\n</g>\n<!-- 139725343717744&#45;&gt;139725343718320 -->\n<g id=\"edge1\" class=\"edge\">\n<title>139725343717744-&gt;139725343718320</title>\n<path fill=\"none\" stroke=\"#000000\" d=\"M216,-249.3799C216,-241.1745 216,-231.7679 216,-222.8786\"/>\n<polygon fill=\"#000000\" stroke=\"#000000\" points=\"219.5001,-222.784 216,-212.784 212.5001,-222.784 219.5001,-222.784\"/>\n</g>\n<!-- 139725343716208 -->\n<g id=\"node4\" class=\"node\">\n<title>139725343716208</title>\n<polygon fill=\"none\" stroke=\"#000000\" points=\"100.5,-83.5 100.5,-129.5 331.5,-129.5 331.5,-83.5 100.5,-83.5\"/>\n<text text-anchor=\"middle\" x=\"136\" y=\"-114.3\" font-family=\"Times,serif\" font-size=\"14.00\" fill=\"#000000\">Flatten_1</text>\n<polyline fill=\"none\" stroke=\"#000000\" points=\"100.5,-106.5 171.5,-106.5 \"/>\n<text text-anchor=\"middle\" x=\"136\" y=\"-91.3\" font-family=\"Times,serif\" font-size=\"14.00\" fill=\"#000000\">Flatten</text>\n<polyline fill=\"none\" stroke=\"#000000\" points=\"171.5,-83.5 171.5,-129.5 \"/>\n<text text-anchor=\"middle\" x=\"200.5\" y=\"-114.3\" font-family=\"Times,serif\" font-size=\"14.00\" fill=\"#000000\">input:</text>\n<polyline fill=\"none\" stroke=\"#000000\" points=\"171.5,-106.5 229.5,-106.5 \"/>\n<text text-anchor=\"middle\" x=\"200.5\" y=\"-91.3\" font-family=\"Times,serif\" font-size=\"14.00\" fill=\"#000000\">output:</text>\n<polyline fill=\"none\" stroke=\"#000000\" points=\"229.5,-83.5 229.5,-129.5 \"/>\n<text text-anchor=\"middle\" x=\"280.5\" y=\"-114.3\" font-family=\"Times,serif\" font-size=\"14.00\" fill=\"#000000\">(None, 4, 4, 3)</text>\n<polyline fill=\"none\" stroke=\"#000000\" points=\"229.5,-106.5 331.5,-106.5 \"/>\n<text text-anchor=\"middle\" x=\"280.5\" y=\"-91.3\" font-family=\"Times,serif\" font-size=\"14.00\" fill=\"#000000\">(None, 48)</text>\n</g>\n<!-- 139725343718320&#45;&gt;139725343716208 -->\n<g id=\"edge2\" class=\"edge\">\n<title>139725343718320-&gt;139725343716208</title>\n<path fill=\"none\" stroke=\"#000000\" d=\"M216,-166.3799C216,-158.1745 216,-148.7679 216,-139.8786\"/>\n<polygon fill=\"#000000\" stroke=\"#000000\" points=\"219.5001,-139.784 216,-129.784 212.5001,-139.784 219.5001,-139.784\"/>\n</g>\n<!-- 139726931481168 -->\n<g id=\"node5\" class=\"node\">\n<title>139726931481168</title>\n<polygon fill=\"none\" stroke=\"#000000\" points=\"113.5,-.5 113.5,-46.5 318.5,-46.5 318.5,-.5 113.5,-.5\"/>\n<text text-anchor=\"middle\" x=\"147\" y=\"-31.3\" font-family=\"Times,serif\" font-size=\"14.00\" fill=\"#000000\">Dense_1</text>\n<polyline fill=\"none\" stroke=\"#000000\" points=\"113.5,-23.5 180.5,-23.5 \"/>\n<text text-anchor=\"middle\" x=\"147\" y=\"-8.3\" font-family=\"Times,serif\" font-size=\"14.00\" fill=\"#000000\">Dense</text>\n<polyline fill=\"none\" stroke=\"#000000\" points=\"180.5,-.5 180.5,-46.5 \"/>\n<text text-anchor=\"middle\" x=\"209.5\" y=\"-31.3\" font-family=\"Times,serif\" font-size=\"14.00\" fill=\"#000000\">input:</text>\n<polyline fill=\"none\" stroke=\"#000000\" points=\"180.5,-23.5 238.5,-23.5 \"/>\n<text text-anchor=\"middle\" x=\"209.5\" y=\"-8.3\" font-family=\"Times,serif\" font-size=\"14.00\" fill=\"#000000\">output:</text>\n<polyline fill=\"none\" stroke=\"#000000\" points=\"238.5,-.5 238.5,-46.5 \"/>\n<text text-anchor=\"middle\" x=\"278.5\" y=\"-31.3\" font-family=\"Times,serif\" font-size=\"14.00\" fill=\"#000000\">(None, 48)</text>\n<polyline fill=\"none\" stroke=\"#000000\" points=\"238.5,-23.5 318.5,-23.5 \"/>\n<text text-anchor=\"middle\" x=\"278.5\" y=\"-8.3\" font-family=\"Times,serif\" font-size=\"14.00\" fill=\"#000000\">(None, 10)</text>\n</g>\n<!-- 139725343716208&#45;&gt;139726931481168 -->\n<g id=\"edge3\" class=\"edge\">\n<title>139725343716208-&gt;139726931481168</title>\n<path fill=\"none\" stroke=\"#000000\" d=\"M216,-83.3799C216,-75.1745 216,-65.7679 216,-56.8786\"/>\n<polygon fill=\"#000000\" stroke=\"#000000\" points=\"219.5001,-56.784 216,-46.784 212.5001,-56.784 219.5001,-56.784\"/>\n</g>\n</g>\n</svg>",
            "text/plain": [
              "<IPython.core.display.SVG object>"
            ]
          },
          "execution_count": 10,
          "metadata": {},
          "output_type": "execute_result"
        }
      ],
      "source": [
        "SVG(model_to_dot(model, show_shapes=True, dpi=None).create(prog='dot', format='svg'))\n"
      ]
    },
    {
      "cell_type": "markdown",
      "metadata": {
        "id": "4OBsfMZgILc5"
      },
      "source": [
        "## 組み立てたモデルを学習データで訓練する\n",
        "早期終了も設定する"
      ]
    },
    {
      "cell_type": "code",
      "execution_count": 11,
      "metadata": {
        "id": "lYq1tSvDNc6t"
      },
      "outputs": [],
      "source": [
        "# 早期終了用の設定のオブジェクトを用意する\n",
        "earlyStopping = callbacks.EarlyStopping(monitor='val_loss', #損失を監視\n",
        "                                        patience=5) #epoch5つ分様子を見る"
      ]
    },
    {
      "cell_type": "markdown",
      "metadata": {
        "id": "PunVGP5aLmyA"
      },
      "source": [
        "### 学習方法を指定して学習モデルをコンパイルする"
      ]
    },
    {
      "cell_type": "code",
      "execution_count": 12,
      "metadata": {
        "colab": {
          "base_uri": "https://localhost:8080/"
        },
        "id": "EvoXWE8U3vOh",
        "outputId": "29bd9d27-8dcc-456d-8612-a627d6c8fc5c"
      },
      "outputs": [
        {
          "name": "stdout",
          "output_type": "stream",
          "text": [
            "Epoch 1/10\n",
            "3/3 [==============================] - 2s 200ms/step - loss: 0.0975 - val_loss: 0.0960\n",
            "Epoch 2/10\n",
            "3/3 [==============================] - 0s 21ms/step - loss: 0.0975 - val_loss: 0.0960\n",
            "Epoch 3/10\n",
            "3/3 [==============================] - 0s 34ms/step - loss: 0.0975 - val_loss: 0.0960\n",
            "Epoch 4/10\n",
            "3/3 [==============================] - 0s 39ms/step - loss: 0.0974 - val_loss: 0.0960\n",
            "Epoch 5/10\n",
            "3/3 [==============================] - 0s 46ms/step - loss: 0.0974 - val_loss: 0.0960\n",
            "Epoch 6/10\n",
            "3/3 [==============================] - 0s 25ms/step - loss: 0.0974 - val_loss: 0.0959\n",
            "Epoch 7/10\n",
            "3/3 [==============================] - 0s 37ms/step - loss: 0.0973 - val_loss: 0.0959\n",
            "Epoch 8/10\n",
            "3/3 [==============================] - 0s 61ms/step - loss: 0.0973 - val_loss: 0.0959\n",
            "Epoch 9/10\n",
            "3/3 [==============================] - 0s 64ms/step - loss: 0.0973 - val_loss: 0.0959\n",
            "Epoch 10/10\n",
            "3/3 [==============================] - 0s 31ms/step - loss: 0.0972 - val_loss: 0.0959\n"
          ]
        },
        {
          "data": {
            "text/plain": [
              "<keras.callbacks.History at 0x7f14531285b0>"
            ]
          },
          "execution_count": 12,
          "metadata": {},
          "output_type": "execute_result"
        }
      ],
      "source": [
        "model.compile(loss='mean_squared_error', #平均（mean）二乗（squared）誤差（error）\n",
        "              optimizer='sgd' # パラメータの重みをSGDで最適化する\n",
        "              # SGD = 確率的勾配降下法\n",
        "              )\n",
        "model.fit(x_train, y_train, # 学習データと答えデータ\n",
        "          batch_size = 32, # 32個ずつまとめて学習（=バッチ学習）してから重みを調整する。\n",
        "          epochs = 10, # バッチが終わったら重みを調整して学習しなおす。その回数。\n",
        "          callbacks = [earlyStopping], # エポックの中で呼ぶcallback処理のリストに早期終了を追加\n",
        "          validation_split = 0.2, # 学習データのうち2割を、学習中の自己評価検証に使う\n",
        "          )\n"
      ]
    },
    {
      "cell_type": "code",
      "execution_count": null,
      "metadata": {
        "id": "prOFYgoHYIog"
      },
      "outputs": [],
      "source": []
    }
  ],
  "metadata": {
    "colab": {
      "include_colab_link": true,
      "provenance": []
    },
    "kernelspec": {
      "display_name": "Python 3",
      "language": "python",
      "name": "python3"
    },
    "language_info": {
      "name": "python",
      "version": "3.10.2 (v3.10.2:a58ebcc701, Jan 13 2022, 14:50:16) [Clang 13.0.0 (clang-1300.0.29.30)]"
    },
    "vscode": {
      "interpreter": {
        "hash": "aee8b7b246df8f9039afb4144a1f6fd8d2ca17a180786b69acc140d282b71a49"
      }
    }
  },
  "nbformat": 4,
  "nbformat_minor": 0
}
