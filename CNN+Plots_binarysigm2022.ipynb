{
  "cells": [
    {
      "cell_type": "markdown",
      "metadata": {
        "colab_type": "text",
        "id": "view-in-github"
      },
      "source": [
        "<a href=\"https://colab.research.google.com/github/sherbw28/class_deep/blob/main/CNN%2BPlots_binarysigm2022.ipynb\" target=\"_parent\"><img src=\"https://colab.research.google.com/assets/colab-badge.svg\" alt=\"Open In Colab\"/></a>"
      ]
    },
    {
      "cell_type": "markdown",
      "metadata": {
        "id": "UPizBXaqsZte"
      },
      "source": [
        "# 二値分類問題\n",
        "## 対象がAかどうか、可能性を出す"
      ]
    },
    {
      "cell_type": "markdown",
      "metadata": {
        "id": "31Rz375ys6TX"
      },
      "source": [
        "## 学習モデルのライブラリを読み込む"
      ]
    },
    {
      "cell_type": "code",
      "execution_count": 1,
      "metadata": {
        "id": "-pvK_CyisThC"
      },
      "outputs": [],
      "source": [
        "from keras.models import Sequential, Model\n",
        "from keras.layers import Conv2D\n",
        "from keras.layers import Flatten\n",
        "from keras.layers import Dense"
      ]
    },
    {
      "cell_type": "markdown",
      "metadata": {
        "id": "coDb71EasYbL"
      },
      "source": [
        "## SVG画像表示用のライブラリを読み込む"
      ]
    },
    {
      "cell_type": "code",
      "execution_count": 2,
      "metadata": {
        "id": "lMRTmfPutQYZ"
      },
      "outputs": [],
      "source": [
        "from IPython.display import SVG\n",
        "from keras.utils.vis_utils import model_to_dot"
      ]
    },
    {
      "cell_type": "markdown",
      "metadata": {
        "id": "yDGoIoChuIiK"
      },
      "source": [
        "## 学習モデルを生成する"
      ]
    },
    {
      "cell_type": "code",
      "execution_count": 3,
      "metadata": {
        "id": "w6EBMiYot6N-"
      },
      "outputs": [],
      "source": [
        "model = Sequential()"
      ]
    },
    {
      "cell_type": "markdown",
      "metadata": {
        "id": "F6q6ZSAsufg-"
      },
      "source": [
        "### ニューロン層を追加する"
      ]
    },
    {
      "cell_type": "code",
      "execution_count": 4,
      "metadata": {
        "id": "qe8FXcs6ulBb"
      },
      "outputs": [],
      "source": [
        "# 畳み込み層追加\n",
        "model.add(Conv2D(\n",
        "    filters=3, # フィルター３パターン\n",
        "    kernel_size=(3, 3), # 受容野縦3 横3\n",
        "    input_shape=(6, 6, 1), # 入力画像１個分 縦6, 横6\n",
        "    padding='same', # ゼロパディング\n",
        "    name='Conv2D_1'\n",
        "    ))"
      ]
    },
    {
      "cell_type": "code",
      "execution_count": 5,
      "metadata": {
        "id": "TNtVUGogA9Xn"
      },
      "outputs": [],
      "source": [
        "# 全結合層を追加\n",
        "model.add(Flatten(\n",
        "    name='Flatten_1'\n",
        "    ))"
      ]
    },
    {
      "cell_type": "code",
      "execution_count": 6,
      "metadata": {
        "id": "Lzie_YoDBMH3"
      },
      "outputs": [],
      "source": [
        "# 全結合のデータを二値分類する層を追加\n",
        "model.add(Dense(\n",
        "    units = 1, # 1つの判定（YES/NO）についての可能性を出す\n",
        "    activation = 'sigmoid', # 活性化関数はsigmoid関数（0～1）\n",
        "    name = 'Dense_1'\n",
        "    ))\n"
      ]
    },
    {
      "cell_type": "markdown",
      "metadata": {
        "id": "G9PFBck2v6Xl"
      },
      "source": [
        "## 学習モデルの形をSVG画像で確認"
      ]
    },
    {
      "cell_type": "code",
      "execution_count": 7,
      "metadata": {
        "colab": {
          "base_uri": "https://localhost:8080/",
          "height": 426
        },
        "id": "yr-NtKSdv2cH",
        "outputId": "5d8f010d-8282-45ed-c08c-b496abcf1f82"
      },
      "outputs": [
        {
          "data": {
            "image/svg+xml": "<svg xmlns=\"http://www.w3.org/2000/svg\" xmlns:xlink=\"http://www.w3.org/1999/xlink\" width=\"368pt\" height=\"304pt\" viewBox=\"0.00 0.00 368.00 304.00\">\n<g id=\"graph0\" class=\"graph\" transform=\"scale(1 1) rotate(0) translate(4 300)\">\n<title>G</title>\n<polygon fill=\"#ffffff\" stroke=\"transparent\" points=\"-4,4 -4,-300 364,-300 364,4 -4,4\"/>\n<!-- dpi -->\n<g id=\"node1\" class=\"node\">\n<title>dpi</title>\n<ellipse fill=\"none\" stroke=\"#000000\" cx=\"27\" cy=\"-272.5\" rx=\"27\" ry=\"18\"/>\n<text text-anchor=\"middle\" x=\"27\" y=\"-268.8\" font-family=\"Times,serif\" font-size=\"14.00\" fill=\"#000000\">dpi</text>\n</g>\n<!-- 140473856395200 -->\n<g id=\"node2\" class=\"node\">\n<title>140473856395200</title>\n<polygon fill=\"none\" stroke=\"#000000\" points=\"72,-249.5 72,-295.5 360,-295.5 360,-249.5 72,-249.5\"/>\n<text text-anchor=\"middle\" x=\"131.5\" y=\"-280.3\" font-family=\"Times,serif\" font-size=\"14.00\" fill=\"#000000\">Conv2D_1_input</text>\n<polyline fill=\"none\" stroke=\"#000000\" points=\"72,-272.5 191,-272.5 \"/>\n<text text-anchor=\"middle\" x=\"131.5\" y=\"-257.3\" font-family=\"Times,serif\" font-size=\"14.00\" fill=\"#000000\">InputLayer</text>\n<polyline fill=\"none\" stroke=\"#000000\" points=\"191,-249.5 191,-295.5 \"/>\n<text text-anchor=\"middle\" x=\"220\" y=\"-280.3\" font-family=\"Times,serif\" font-size=\"14.00\" fill=\"#000000\">input:</text>\n<polyline fill=\"none\" stroke=\"#000000\" points=\"191,-272.5 249,-272.5 \"/>\n<text text-anchor=\"middle\" x=\"220\" y=\"-257.3\" font-family=\"Times,serif\" font-size=\"14.00\" fill=\"#000000\">output:</text>\n<polyline fill=\"none\" stroke=\"#000000\" points=\"249,-249.5 249,-295.5 \"/>\n<text text-anchor=\"middle\" x=\"304.5\" y=\"-280.3\" font-family=\"Times,serif\" font-size=\"14.00\" fill=\"#000000\">[(None, 6, 6, 1)]</text>\n<polyline fill=\"none\" stroke=\"#000000\" points=\"249,-272.5 360,-272.5 \"/>\n<text text-anchor=\"middle\" x=\"304.5\" y=\"-257.3\" font-family=\"Times,serif\" font-size=\"14.00\" fill=\"#000000\">[(None, 6, 6, 1)]</text>\n</g>\n<!-- 140473856396064 -->\n<g id=\"node3\" class=\"node\">\n<title>140473856396064</title>\n<polygon fill=\"none\" stroke=\"#000000\" points=\"95,-166.5 95,-212.5 337,-212.5 337,-166.5 95,-166.5\"/>\n<text text-anchor=\"middle\" x=\"136\" y=\"-197.3\" font-family=\"Times,serif\" font-size=\"14.00\" fill=\"#000000\">Conv2D_1</text>\n<polyline fill=\"none\" stroke=\"#000000\" points=\"95,-189.5 177,-189.5 \"/>\n<text text-anchor=\"middle\" x=\"136\" y=\"-174.3\" font-family=\"Times,serif\" font-size=\"14.00\" fill=\"#000000\">Conv2D</text>\n<polyline fill=\"none\" stroke=\"#000000\" points=\"177,-166.5 177,-212.5 \"/>\n<text text-anchor=\"middle\" x=\"206\" y=\"-197.3\" font-family=\"Times,serif\" font-size=\"14.00\" fill=\"#000000\">input:</text>\n<polyline fill=\"none\" stroke=\"#000000\" points=\"177,-189.5 235,-189.5 \"/>\n<text text-anchor=\"middle\" x=\"206\" y=\"-174.3\" font-family=\"Times,serif\" font-size=\"14.00\" fill=\"#000000\">output:</text>\n<polyline fill=\"none\" stroke=\"#000000\" points=\"235,-166.5 235,-212.5 \"/>\n<text text-anchor=\"middle\" x=\"286\" y=\"-197.3\" font-family=\"Times,serif\" font-size=\"14.00\" fill=\"#000000\">(None, 6, 6, 1)</text>\n<polyline fill=\"none\" stroke=\"#000000\" points=\"235,-189.5 337,-189.5 \"/>\n<text text-anchor=\"middle\" x=\"286\" y=\"-174.3\" font-family=\"Times,serif\" font-size=\"14.00\" fill=\"#000000\">(None, 6, 6, 3)</text>\n</g>\n<!-- 140473856395200&#45;&gt;140473856396064 -->\n<g id=\"edge1\" class=\"edge\">\n<title>140473856395200-&gt;140473856396064</title>\n<path fill=\"none\" stroke=\"#000000\" d=\"M216,-249.3799C216,-241.1745 216,-231.7679 216,-222.8786\"/>\n<polygon fill=\"#000000\" stroke=\"#000000\" points=\"219.5001,-222.784 216,-212.784 212.5001,-222.784 219.5001,-222.784\"/>\n</g>\n<!-- 140473783155728 -->\n<g id=\"node4\" class=\"node\">\n<title>140473783155728</title>\n<polygon fill=\"none\" stroke=\"#000000\" points=\"100.5,-83.5 100.5,-129.5 331.5,-129.5 331.5,-83.5 100.5,-83.5\"/>\n<text text-anchor=\"middle\" x=\"136\" y=\"-114.3\" font-family=\"Times,serif\" font-size=\"14.00\" fill=\"#000000\">Flatten_1</text>\n<polyline fill=\"none\" stroke=\"#000000\" points=\"100.5,-106.5 171.5,-106.5 \"/>\n<text text-anchor=\"middle\" x=\"136\" y=\"-91.3\" font-family=\"Times,serif\" font-size=\"14.00\" fill=\"#000000\">Flatten</text>\n<polyline fill=\"none\" stroke=\"#000000\" points=\"171.5,-83.5 171.5,-129.5 \"/>\n<text text-anchor=\"middle\" x=\"200.5\" y=\"-114.3\" font-family=\"Times,serif\" font-size=\"14.00\" fill=\"#000000\">input:</text>\n<polyline fill=\"none\" stroke=\"#000000\" points=\"171.5,-106.5 229.5,-106.5 \"/>\n<text text-anchor=\"middle\" x=\"200.5\" y=\"-91.3\" font-family=\"Times,serif\" font-size=\"14.00\" fill=\"#000000\">output:</text>\n<polyline fill=\"none\" stroke=\"#000000\" points=\"229.5,-83.5 229.5,-129.5 \"/>\n<text text-anchor=\"middle\" x=\"280.5\" y=\"-114.3\" font-family=\"Times,serif\" font-size=\"14.00\" fill=\"#000000\">(None, 6, 6, 3)</text>\n<polyline fill=\"none\" stroke=\"#000000\" points=\"229.5,-106.5 331.5,-106.5 \"/>\n<text text-anchor=\"middle\" x=\"280.5\" y=\"-91.3\" font-family=\"Times,serif\" font-size=\"14.00\" fill=\"#000000\">(None, 108)</text>\n</g>\n<!-- 140473856396064&#45;&gt;140473783155728 -->\n<g id=\"edge2\" class=\"edge\">\n<title>140473856396064-&gt;140473783155728</title>\n<path fill=\"none\" stroke=\"#000000\" d=\"M216,-166.3799C216,-158.1745 216,-148.7679 216,-139.8786\"/>\n<polygon fill=\"#000000\" stroke=\"#000000\" points=\"219.5001,-139.784 216,-129.784 212.5001,-139.784 219.5001,-139.784\"/>\n</g>\n<!-- 140473856395872 -->\n<g id=\"node5\" class=\"node\">\n<title>140473856395872</title>\n<polygon fill=\"none\" stroke=\"#000000\" points=\"110,-.5 110,-46.5 322,-46.5 322,-.5 110,-.5\"/>\n<text text-anchor=\"middle\" x=\"143.5\" y=\"-31.3\" font-family=\"Times,serif\" font-size=\"14.00\" fill=\"#000000\">Dense_1</text>\n<polyline fill=\"none\" stroke=\"#000000\" points=\"110,-23.5 177,-23.5 \"/>\n<text text-anchor=\"middle\" x=\"143.5\" y=\"-8.3\" font-family=\"Times,serif\" font-size=\"14.00\" fill=\"#000000\">Dense</text>\n<polyline fill=\"none\" stroke=\"#000000\" points=\"177,-.5 177,-46.5 \"/>\n<text text-anchor=\"middle\" x=\"206\" y=\"-31.3\" font-family=\"Times,serif\" font-size=\"14.00\" fill=\"#000000\">input:</text>\n<polyline fill=\"none\" stroke=\"#000000\" points=\"177,-23.5 235,-23.5 \"/>\n<text text-anchor=\"middle\" x=\"206\" y=\"-8.3\" font-family=\"Times,serif\" font-size=\"14.00\" fill=\"#000000\">output:</text>\n<polyline fill=\"none\" stroke=\"#000000\" points=\"235,-.5 235,-46.5 \"/>\n<text text-anchor=\"middle\" x=\"278.5\" y=\"-31.3\" font-family=\"Times,serif\" font-size=\"14.00\" fill=\"#000000\">(None, 108)</text>\n<polyline fill=\"none\" stroke=\"#000000\" points=\"235,-23.5 322,-23.5 \"/>\n<text text-anchor=\"middle\" x=\"278.5\" y=\"-8.3\" font-family=\"Times,serif\" font-size=\"14.00\" fill=\"#000000\">(None, 1)</text>\n</g>\n<!-- 140473783155728&#45;&gt;140473856395872 -->\n<g id=\"edge3\" class=\"edge\">\n<title>140473783155728-&gt;140473856395872</title>\n<path fill=\"none\" stroke=\"#000000\" d=\"M216,-83.3799C216,-75.1745 216,-65.7679 216,-56.8786\"/>\n<polygon fill=\"#000000\" stroke=\"#000000\" points=\"219.5001,-56.784 216,-46.784 212.5001,-56.784 219.5001,-56.784\"/>\n</g>\n</g>\n</svg>",
            "text/plain": [
              "<IPython.core.display.SVG object>"
            ]
          },
          "execution_count": 7,
          "metadata": {},
          "output_type": "execute_result"
        }
      ],
      "source": [
        "SVG(model_to_dot(model, show_shapes=True, dpi=None).create(prog='dot', format='svg'))\n"
      ]
    },
    {
      "cell_type": "code",
      "execution_count": null,
      "metadata": {
        "id": "lYq1tSvDNc6t"
      },
      "outputs": [],
      "source": []
    }
  ],
  "metadata": {
    "colab": {
      "include_colab_link": true,
      "provenance": []
    },
    "kernelspec": {
      "display_name": "Python 3",
      "name": "python3"
    },
    "language_info": {
      "name": "python"
    }
  },
  "nbformat": 4,
  "nbformat_minor": 0
}
