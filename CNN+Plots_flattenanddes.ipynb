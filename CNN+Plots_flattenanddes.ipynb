{
  "nbformat": 4,
  "nbformat_minor": 0,
  "metadata": {
    "colab": {
      "provenance": [],
      "authorship_tag": "ABX9TyO29snMZz0N1mfRhe4VI8K0",
      "include_colab_link": true
    },
    "kernelspec": {
      "name": "python3",
      "display_name": "Python 3"
    },
    "language_info": {
      "name": "python"
    }
  },
  "cells": [
    {
      "cell_type": "markdown",
      "metadata": {
        "id": "view-in-github",
        "colab_type": "text"
      },
      "source": [
        "<a href=\"https://colab.research.google.com/github/sherbw28/class_deep/blob/main/CNN%2BPlots_flattenanddes.ipynb\" target=\"_parent\"><img src=\"https://colab.research.google.com/assets/colab-badge.svg\" alt=\"Open In Colab\"/></a>"
      ]
    },
    {
      "cell_type": "code",
      "execution_count": 2,
      "metadata": {
        "id": "MCOLGfIQ92XU"
      },
      "outputs": [],
      "source": [
        "from keras.models import Sequential, Model\n",
        "from keras.layers import Conv2D, Flatten, Dense\n",
        "from IPython.display import SVG\n",
        "from keras.utils.vis_utils import model_to_dot"
      ]
    },
    {
      "cell_type": "code",
      "source": [
        "model = Sequential()"
      ],
      "metadata": {
        "id": "lon_31h--S4P"
      },
      "execution_count": 3,
      "outputs": []
    },
    {
      "cell_type": "code",
      "source": [
        "model.add(Conv2D(filters=3,kernel_size=(3,3),input_shape=(6,6,1),padding='same', name='Conv2D'))"
      ],
      "metadata": {
        "id": "y1i0CxxB_EVv"
      },
      "execution_count": 4,
      "outputs": []
    },
    {
      "cell_type": "code",
      "source": [
        "model.add(Dense(units=10,activation=\"softmax\",name=\"Dense_1\"))"
      ],
      "metadata": {
        "id": "7tiReclUAkRJ"
      },
      "execution_count": 9,
      "outputs": []
    },
    {
      "cell_type": "code",
      "source": [
        "model.add(Flatten(name=\"Flatten_1\"))"
      ],
      "metadata": {
        "id": "8IB0XgDUBZt1"
      },
      "execution_count": 10,
      "outputs": []
    },
    {
      "cell_type": "code",
      "source": [
        "SVG(model_to_dot(model,show_shapes=True,dpi=None).create(prog=\"dot\",format=\"svg\"))"
      ],
      "metadata": {
        "colab": {
          "base_uri": "https://localhost:8080/",
          "height": 426
        },
        "id": "lI_AogSrCuDN",
        "outputId": "d765e03c-ac7f-4a2e-864f-b458b6bd1a23"
      },
      "execution_count": 11,
      "outputs": [
        {
          "output_type": "execute_result",
          "data": {
            "text/plain": [
              "<IPython.core.display.SVG object>"
            ],
            "image/svg+xml": "<svg height=\"304pt\" viewBox=\"0.00 0.00 353.50 304.00\" width=\"354pt\" xmlns=\"http://www.w3.org/2000/svg\" xmlns:xlink=\"http://www.w3.org/1999/xlink\">\n<g class=\"graph\" id=\"graph0\" transform=\"scale(1 1) rotate(0) translate(4 300)\">\n<title>G</title>\n<polygon fill=\"#ffffff\" points=\"-4,4 -4,-300 349.5,-300 349.5,4 -4,4\" stroke=\"transparent\"/>\n<!-- dpi -->\n<g class=\"node\" id=\"node1\">\n<title>dpi</title>\n<ellipse cx=\"27\" cy=\"-272.5\" fill=\"none\" rx=\"27\" ry=\"18\" stroke=\"#000000\"/>\n<text fill=\"#000000\" font-family=\"Times,serif\" font-size=\"14.00\" text-anchor=\"middle\" x=\"27\" y=\"-268.8\">dpi</text>\n</g>\n<!-- 139969135527504 -->\n<g class=\"node\" id=\"node2\">\n<title>139969135527504</title>\n<polygon fill=\"none\" points=\"72.5,-249.5 72.5,-295.5 345.5,-295.5 345.5,-249.5 72.5,-249.5\" stroke=\"#000000\"/>\n<text fill=\"#000000\" font-family=\"Times,serif\" font-size=\"14.00\" text-anchor=\"middle\" x=\"124.5\" y=\"-280.3\">Conv2D_input</text>\n<polyline fill=\"none\" points=\"72.5,-272.5 176.5,-272.5 \" stroke=\"#000000\"/>\n<text fill=\"#000000\" font-family=\"Times,serif\" font-size=\"14.00\" text-anchor=\"middle\" x=\"124.5\" y=\"-257.3\">InputLayer</text>\n<polyline fill=\"none\" points=\"176.5,-249.5 176.5,-295.5 \" stroke=\"#000000\"/>\n<text fill=\"#000000\" font-family=\"Times,serif\" font-size=\"14.00\" text-anchor=\"middle\" x=\"205.5\" y=\"-280.3\">input:</text>\n<polyline fill=\"none\" points=\"176.5,-272.5 234.5,-272.5 \" stroke=\"#000000\"/>\n<text fill=\"#000000\" font-family=\"Times,serif\" font-size=\"14.00\" text-anchor=\"middle\" x=\"205.5\" y=\"-257.3\">output:</text>\n<polyline fill=\"none\" points=\"234.5,-249.5 234.5,-295.5 \" stroke=\"#000000\"/>\n<text fill=\"#000000\" font-family=\"Times,serif\" font-size=\"14.00\" text-anchor=\"middle\" x=\"290\" y=\"-280.3\">[(None, 6, 6, 1)]</text>\n<polyline fill=\"none\" points=\"234.5,-272.5 345.5,-272.5 \" stroke=\"#000000\"/>\n<text fill=\"#000000\" font-family=\"Times,serif\" font-size=\"14.00\" text-anchor=\"middle\" x=\"290\" y=\"-257.3\">[(None, 6, 6, 1)]</text>\n</g>\n<!-- 139969050062800 -->\n<g class=\"node\" id=\"node3\">\n<title>139969050062800</title>\n<polygon fill=\"none\" points=\"95.5,-166.5 95.5,-212.5 322.5,-212.5 322.5,-166.5 95.5,-166.5\" stroke=\"#000000\"/>\n<text fill=\"#000000\" font-family=\"Times,serif\" font-size=\"14.00\" text-anchor=\"middle\" x=\"129\" y=\"-197.3\">Conv2D</text>\n<polyline fill=\"none\" points=\"95.5,-189.5 162.5,-189.5 \" stroke=\"#000000\"/>\n<text fill=\"#000000\" font-family=\"Times,serif\" font-size=\"14.00\" text-anchor=\"middle\" x=\"129\" y=\"-174.3\">Conv2D</text>\n<polyline fill=\"none\" points=\"162.5,-166.5 162.5,-212.5 \" stroke=\"#000000\"/>\n<text fill=\"#000000\" font-family=\"Times,serif\" font-size=\"14.00\" text-anchor=\"middle\" x=\"191.5\" y=\"-197.3\">input:</text>\n<polyline fill=\"none\" points=\"162.5,-189.5 220.5,-189.5 \" stroke=\"#000000\"/>\n<text fill=\"#000000\" font-family=\"Times,serif\" font-size=\"14.00\" text-anchor=\"middle\" x=\"191.5\" y=\"-174.3\">output:</text>\n<polyline fill=\"none\" points=\"220.5,-166.5 220.5,-212.5 \" stroke=\"#000000\"/>\n<text fill=\"#000000\" font-family=\"Times,serif\" font-size=\"14.00\" text-anchor=\"middle\" x=\"271.5\" y=\"-197.3\">(None, 6, 6, 1)</text>\n<polyline fill=\"none\" points=\"220.5,-189.5 322.5,-189.5 \" stroke=\"#000000\"/>\n<text fill=\"#000000\" font-family=\"Times,serif\" font-size=\"14.00\" text-anchor=\"middle\" x=\"271.5\" y=\"-174.3\">(None, 6, 6, 3)</text>\n</g>\n<!-- 139969135527504&#45;&gt;139969050062800 -->\n<g class=\"edge\" id=\"edge1\">\n<title>139969135527504-&gt;139969050062800</title>\n<path d=\"M209,-249.3799C209,-241.1745 209,-231.7679 209,-222.8786\" fill=\"none\" stroke=\"#000000\"/>\n<polygon fill=\"#000000\" points=\"212.5001,-222.784 209,-212.784 205.5001,-222.784 212.5001,-222.784\" stroke=\"#000000\"/>\n</g>\n<!-- 139969047568720 -->\n<g class=\"node\" id=\"node4\">\n<title>139969047568720</title>\n<polygon fill=\"none\" points=\"91.5,-83.5 91.5,-129.5 326.5,-129.5 326.5,-83.5 91.5,-83.5\" stroke=\"#000000\"/>\n<text fill=\"#000000\" font-family=\"Times,serif\" font-size=\"14.00\" text-anchor=\"middle\" x=\"125\" y=\"-114.3\">Dense_1</text>\n<polyline fill=\"none\" points=\"91.5,-106.5 158.5,-106.5 \" stroke=\"#000000\"/>\n<text fill=\"#000000\" font-family=\"Times,serif\" font-size=\"14.00\" text-anchor=\"middle\" x=\"125\" y=\"-91.3\">Dense</text>\n<polyline fill=\"none\" points=\"158.5,-83.5 158.5,-129.5 \" stroke=\"#000000\"/>\n<text fill=\"#000000\" font-family=\"Times,serif\" font-size=\"14.00\" text-anchor=\"middle\" x=\"187.5\" y=\"-114.3\">input:</text>\n<polyline fill=\"none\" points=\"158.5,-106.5 216.5,-106.5 \" stroke=\"#000000\"/>\n<text fill=\"#000000\" font-family=\"Times,serif\" font-size=\"14.00\" text-anchor=\"middle\" x=\"187.5\" y=\"-91.3\">output:</text>\n<polyline fill=\"none\" points=\"216.5,-83.5 216.5,-129.5 \" stroke=\"#000000\"/>\n<text fill=\"#000000\" font-family=\"Times,serif\" font-size=\"14.00\" text-anchor=\"middle\" x=\"271.5\" y=\"-114.3\">(None, 6, 6, 3)</text>\n<polyline fill=\"none\" points=\"216.5,-106.5 326.5,-106.5 \" stroke=\"#000000\"/>\n<text fill=\"#000000\" font-family=\"Times,serif\" font-size=\"14.00\" text-anchor=\"middle\" x=\"271.5\" y=\"-91.3\">(None, 6, 6, 10)</text>\n</g>\n<!-- 139969050062800&#45;&gt;139969047568720 -->\n<g class=\"edge\" id=\"edge2\">\n<title>139969050062800-&gt;139969047568720</title>\n<path d=\"M209,-166.3799C209,-158.1745 209,-148.7679 209,-139.8786\" fill=\"none\" stroke=\"#000000\"/>\n<polygon fill=\"#000000\" points=\"212.5001,-139.784 209,-129.784 205.5001,-139.784 212.5001,-139.784\" stroke=\"#000000\"/>\n</g>\n<!-- 139969047580880 -->\n<g class=\"node\" id=\"node5\">\n<title>139969047580880</title>\n<polygon fill=\"none\" points=\"89.5,-.5 89.5,-46.5 328.5,-46.5 328.5,-.5 89.5,-.5\" stroke=\"#000000\"/>\n<text fill=\"#000000\" font-family=\"Times,serif\" font-size=\"14.00\" text-anchor=\"middle\" x=\"125\" y=\"-31.3\">Flatten_1</text>\n<polyline fill=\"none\" points=\"89.5,-23.5 160.5,-23.5 \" stroke=\"#000000\"/>\n<text fill=\"#000000\" font-family=\"Times,serif\" font-size=\"14.00\" text-anchor=\"middle\" x=\"125\" y=\"-8.3\">Flatten</text>\n<polyline fill=\"none\" points=\"160.5,-.5 160.5,-46.5 \" stroke=\"#000000\"/>\n<text fill=\"#000000\" font-family=\"Times,serif\" font-size=\"14.00\" text-anchor=\"middle\" x=\"189.5\" y=\"-31.3\">input:</text>\n<polyline fill=\"none\" points=\"160.5,-23.5 218.5,-23.5 \" stroke=\"#000000\"/>\n<text fill=\"#000000\" font-family=\"Times,serif\" font-size=\"14.00\" text-anchor=\"middle\" x=\"189.5\" y=\"-8.3\">output:</text>\n<polyline fill=\"none\" points=\"218.5,-.5 218.5,-46.5 \" stroke=\"#000000\"/>\n<text fill=\"#000000\" font-family=\"Times,serif\" font-size=\"14.00\" text-anchor=\"middle\" x=\"273.5\" y=\"-31.3\">(None, 6, 6, 10)</text>\n<polyline fill=\"none\" points=\"218.5,-23.5 328.5,-23.5 \" stroke=\"#000000\"/>\n<text fill=\"#000000\" font-family=\"Times,serif\" font-size=\"14.00\" text-anchor=\"middle\" x=\"273.5\" y=\"-8.3\">(None, 360)</text>\n</g>\n<!-- 139969047568720&#45;&gt;139969047580880 -->\n<g class=\"edge\" id=\"edge3\">\n<title>139969047568720-&gt;139969047580880</title>\n<path d=\"M209,-83.3799C209,-75.1745 209,-65.7679 209,-56.8786\" fill=\"none\" stroke=\"#000000\"/>\n<polygon fill=\"#000000\" points=\"212.5001,-56.784 209,-46.784 205.5001,-56.784 212.5001,-56.784\" stroke=\"#000000\"/>\n</g>\n</g>\n</svg>"
          },
          "metadata": {},
          "execution_count": 11
        }
      ]
    },
    {
      "cell_type": "code",
      "source": [],
      "metadata": {
        "id": "rz6Q5CAbDoZ2"
      },
      "execution_count": null,
      "outputs": []
    }
  ]
}