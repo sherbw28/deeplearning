{
  "nbformat": 4,
  "nbformat_minor": 0,
  "metadata": {
    "colab": {
      "provenance": [],
      "toc_visible": true,
      "authorship_tag": "ABX9TyMkW8bZjyJI3qF7IE2i1b9y",
      "include_colab_link": true
    },
    "kernelspec": {
      "name": "python3",
      "display_name": "Python 3"
    },
    "language_info": {
      "name": "python"
    }
  },
  "cells": [
    {
      "cell_type": "markdown",
      "metadata": {
        "id": "view-in-github",
        "colab_type": "text"
      },
      "source": [
        "<a href=\"https://colab.research.google.com/github/sherbw28/class_deep/blob/main/0920%E9%96%A2%E6%95%B0%E5%AE%9A%E7%BE%A9.ipynb\" target=\"_parent\"><img src=\"https://colab.research.google.com/assets/colab-badge.svg\" alt=\"Open In Colab\"/></a>"
      ]
    },
    {
      "cell_type": "markdown",
      "source": [
        "# python3で関数を定義する\n",
        "関数定義"
      ],
      "metadata": {
        "id": "ala-3FD7bQbT"
      }
    },
    {
      "cell_type": "code",
      "source": [
        "def hello():\n",
        "  print(\"hello kansu\")"
      ],
      "metadata": {
        "id": "5gk3vrUJbVZJ"
      },
      "execution_count": 1,
      "outputs": []
    },
    {
      "cell_type": "code",
      "source": [
        "hello()"
      ],
      "metadata": {
        "colab": {
          "base_uri": "https://localhost:8080/"
        },
        "id": "5gBgZ3Fpcetr",
        "outputId": "23c2cd11-feca-4098-81e1-aa1f17b61b47"
      },
      "execution_count": 2,
      "outputs": [
        {
          "output_type": "stream",
          "name": "stdout",
          "text": [
            "hello kansu\n"
          ]
        }
      ]
    },
    {
      "cell_type": "code",
      "source": [],
      "metadata": {
        "id": "dO63KX2PeBan"
      },
      "execution_count": 2,
      "outputs": []
    },
    {
      "cell_type": "markdown",
      "source": [
        "# 引数付きの関数を定義する"
      ],
      "metadata": {
        "id": "IGMBrVyKe9nb"
      }
    },
    {
      "cell_type": "code",
      "source": [
        "def hello(who):\n",
        "  print(f'{who} sent you message')\n",
        "\n",
        "hello(\"Eisuke\")"
      ],
      "metadata": {
        "colab": {
          "base_uri": "https://localhost:8080/"
        },
        "id": "dkmKe8T9fGdr",
        "outputId": "a53ea2e6-a08a-4bd0-a7ac-5764a4cbced6"
      },
      "execution_count": 3,
      "outputs": [
        {
          "output_type": "stream",
          "name": "stdout",
          "text": [
            "Eisuke sent you message\n"
          ]
        }
      ]
    },
    {
      "cell_type": "markdown",
      "source": [
        "# 複数の引数つきの関数を定義"
      ],
      "metadata": {
        "id": "bLAVRa73gZKL"
      }
    },
    {
      "cell_type": "code",
      "source": [
        "def hello(who,aisatu):\n",
        "  print(f'{who} say {aisatu}')\n",
        "\n",
        "hello(\"Eisuke\",\"Hello\")"
      ],
      "metadata": {
        "colab": {
          "base_uri": "https://localhost:8080/"
        },
        "id": "4uDjPnCugeNF",
        "outputId": "88459e57-3ce1-400a-a3fb-da3baa47c0f5"
      },
      "execution_count": 4,
      "outputs": [
        {
          "output_type": "stream",
          "name": "stdout",
          "text": [
            "Eisuke say Hello\n"
          ]
        }
      ]
    },
    {
      "cell_type": "markdown",
      "source": [
        "# 関数の戻り値を定義する\n",
        "戻り値1つの関数を定義"
      ],
      "metadata": {
        "id": "6YKyChYIiCwE"
      }
    },
    {
      "cell_type": "code",
      "source": [
        "def helloBack(who,ai):\n",
        "  return print(who + ai)\n",
        "a = helloBack(\"aaa\",\"bbb\")\n",
        "a"
      ],
      "metadata": {
        "colab": {
          "base_uri": "https://localhost:8080/"
        },
        "id": "aefwW-0LiHix",
        "outputId": "9982f99b-d1b3-4524-b500-64bff341fe37"
      },
      "execution_count": 5,
      "outputs": [
        {
          "output_type": "stream",
          "name": "stdout",
          "text": [
            "aaabbb\n"
          ]
        }
      ]
    },
    {
      "cell_type": "markdown",
      "source": [
        "# 複数の戻り値を返す関数を定義"
      ],
      "metadata": {
        "id": "bA2V3zrFj2cN"
      }
    },
    {
      "cell_type": "code",
      "source": [
        "def keisan(x,y):\n",
        "  return x,y,x+y"
      ],
      "metadata": {
        "id": "V-VZgUeLj5aZ"
      },
      "execution_count": 6,
      "outputs": []
    },
    {
      "cell_type": "markdown",
      "source": [
        "# その他の文法\n",
        "分岐(if文)"
      ],
      "metadata": {
        "id": "kyJORZBplkSB"
      }
    },
    {
      "cell_type": "markdown",
      "source": [
        "# リスト、キーワード"
      ],
      "metadata": {
        "id": "INc4b3Jpt_e_"
      }
    },
    {
      "cell_type": "code",
      "source": [
        "def include(list,keyword):\n",
        "  uniq = set(list)\n",
        "  if keyword in uniq:\n",
        "    print(keyword)\n",
        "  else:\n",
        "    print(keyword + \"が含まれない\")\n",
        "\n",
        "list1 = [\"アップル\",\"ペン\",\"ペン\",\"パイナップル\"]"
      ],
      "metadata": {
        "id": "nHy8GFnfuC34"
      },
      "execution_count": 8,
      "outputs": []
    },
    {
      "cell_type": "markdown",
      "source": [
        "# 繰り返し分(while文)"
      ],
      "metadata": {
        "id": "b0RmMoeUw-K2"
      }
    },
    {
      "cell_type": "code",
      "source": [
        "def cont(max):\n",
        "  num = 0\n",
        "  while num < max:\n",
        "    num += 1"
      ],
      "metadata": {
        "id": "RjpS7QZTxByg"
      },
      "execution_count": 9,
      "outputs": []
    },
    {
      "cell_type": "markdown",
      "source": [
        "# 繰り返し分(for文)\n",
        "変数βの集合から1つずつ取り出す\n",
        "for 変数α in range(変数β):"
      ],
      "metadata": {
        "id": "J8TVhSn6zqiG"
      }
    },
    {
      "cell_type": "code",
      "source": [
        "def every(array):\n",
        "  for x in array:\n",
        "    print(x)\n",
        "\n",
        "  list = [1,2,3]\n",
        "  tuple = (4,5,6)\n",
        "  dict = {\"a\":7,\"b\":8,\"c\":9}\n",
        "  every(dict)"
      ],
      "metadata": {
        "id": "SjA16Su_z3Ty"
      },
      "execution_count": 10,
      "outputs": []
    },
    {
      "cell_type": "code",
      "source": [],
      "metadata": {
        "id": "x-j1hYKA2H77"
      },
      "execution_count": 10,
      "outputs": []
    },
    {
      "cell_type": "markdown",
      "source": [
        "# カウンター変数で繰り返す"
      ],
      "metadata": {
        "id": "A4PjVDYO2zBJ"
      }
    },
    {
      "cell_type": "code",
      "source": [],
      "metadata": {
        "id": "aAaDq0XX21Bu"
      },
      "execution_count": 10,
      "outputs": []
    },
    {
      "cell_type": "markdown",
      "source": [
        "# 繰り返しを中断したいときは、break命令"
      ],
      "metadata": {
        "id": "xI-jfHcu4l6d"
      }
    },
    {
      "cell_type": "code",
      "source": [
        "def stop(array):\n",
        "  for i in array:\n",
        "    if i > 4:\n",
        "      break\n",
        "    print(i)\n",
        "list = [1,2,3,4,5,1,2,3,4,5]"
      ],
      "metadata": {
        "id": "uSI6QcYp4oy1"
      },
      "execution_count": 11,
      "outputs": []
    },
    {
      "cell_type": "markdown",
      "source": [
        "# 繰り返しをスキップしたいときは、continue命令"
      ],
      "metadata": {
        "id": "xzlPPoDS6dyV"
      }
    },
    {
      "cell_type": "code",
      "source": [
        "def skip(array):\n",
        "  for i in array:\n",
        "    if i > 4:\n",
        "      continue\n",
        "    print(i)\n",
        "\n",
        "list = [1,2,3,4,5,1,2,3,4,5]\n",
        "skip(list)"
      ],
      "metadata": {
        "colab": {
          "base_uri": "https://localhost:8080/"
        },
        "id": "mncmZEKe6gZO",
        "outputId": "a449d55c-c2b8-43b9-f038-253b9a6c114f"
      },
      "execution_count": 12,
      "outputs": [
        {
          "output_type": "stream",
          "name": "stdout",
          "text": [
            "1\n",
            "2\n",
            "3\n",
            "4\n",
            "1\n",
            "2\n",
            "3\n",
            "4\n"
          ]
        }
      ]
    },
    {
      "cell_type": "markdown",
      "source": [
        "### 多次元のndarrayへのスライスでの代入"
      ],
      "metadata": {
        "id": "LZCMmw6BeiKj"
      }
    },
    {
      "cell_type": "code",
      "source": [
        " import numpy as np\n",
        " a = np.arange(12).reshape(3,4)\n",
        " print(a)\n",
        " print(a[1:,1:3])\n",
        " a[1:,1:3] = 100\n",
        " print(a)\n",
        " a[1:,1:3] = [100, 200]\n",
        " print(a)\n",
        "\n",
        "a[1:,1:3] = [[100,200],[300,400]]\n",
        "print(a)"
      ],
      "metadata": {
        "colab": {
          "base_uri": "https://localhost:8080/"
        },
        "id": "9zyf6RQ8enYS",
        "outputId": "907ab480-3d21-4f08-d2b5-5889ee05e3f8"
      },
      "execution_count": 22,
      "outputs": [
        {
          "output_type": "stream",
          "name": "stdout",
          "text": [
            "[[ 0  1  2  3]\n",
            " [ 4  5  6  7]\n",
            " [ 8  9 10 11]]\n",
            "[[ 5  6]\n",
            " [ 9 10]]\n",
            "[[  0   1   2   3]\n",
            " [  4 100 100   7]\n",
            " [  8 100 100  11]]\n",
            "[[  0   1   2   3]\n",
            " [  4 100 200   7]\n",
            " [  8 100 200  11]]\n",
            "[[  0   1   2   3]\n",
            " [  4 100 200   7]\n",
            " [  8 300 400  11]]\n"
          ]
        }
      ]
    },
    {
      "cell_type": "code",
      "source": [],
      "metadata": {
        "id": "N8hPOYy-fCz3"
      },
      "execution_count": null,
      "outputs": []
    },
    {
      "cell_type": "markdown",
      "source": [
        "### 多次元のndarrayへのstepを使ったスライスでの代入"
      ],
      "metadata": {
        "id": "QeTzGDIbiVkA"
      }
    },
    {
      "cell_type": "code",
      "source": [
        "a = np.arange(12).reshape((3,4))\n",
        "print(a)\n",
        "print(a[1:,::2])\n",
        "print(a[:2,::3])\n",
        "a[1:,::2] = [[100,200],[300,400]]\n",
        "print(a)"
      ],
      "metadata": {
        "colab": {
          "base_uri": "https://localhost:8080/"
        },
        "id": "wtzbsz6jiu3p",
        "outputId": "416c1fed-5291-429c-ccc1-99909a07db66"
      },
      "execution_count": 28,
      "outputs": [
        {
          "output_type": "stream",
          "name": "stdout",
          "text": [
            "[[ 0  1  2  3]\n",
            " [ 4  5  6  7]\n",
            " [ 8  9 10 11]]\n",
            "[[ 4  6]\n",
            " [ 8 10]]\n",
            "[[0 3]\n",
            " [4 7]]\n",
            "[[  0   1   2   3]\n",
            " [100   5 200   7]\n",
            " [300   9 400  11]]\n"
          ]
        }
      ]
    },
    {
      "cell_type": "code",
      "source": [],
      "metadata": {
        "id": "s5zCc-Iai-8f"
      },
      "execution_count": null,
      "outputs": []
    }
  ]
}