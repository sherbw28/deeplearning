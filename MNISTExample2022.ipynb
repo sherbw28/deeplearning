{
  "cells": [
    {
      "cell_type": "markdown",
      "metadata": {
        "colab_type": "text",
        "id": "view-in-github"
      },
      "source": [
        "<a href=\"https://colab.research.google.com/github/sherbw28/class_deep/blob/main/MNISTExample2022.ipynb\" target=\"_parent\"><img src=\"https://colab.research.google.com/assets/colab-badge.svg\" alt=\"Open In Colab\"/></a>"
      ]
    },
    {
      "cell_type": "code",
      "execution_count": 1,
      "metadata": {
        "id": "w7jdtflj_ZLa"
      },
      "outputs": [],
      "source": [
        "# import keras\n",
        "# #学習用ライブラリ\n",
        "# from keras.models import Sequential #学習モデル Sequentialモデル\n",
        "# from keras.layers.core import Dense, Dropout, Activation #ニューロンの各層\n",
        "# from tensorflow.keras.optimizers import RMSprop\n",
        "# from keras.callbacks import EarlyStopping, CSVLogger\n",
        "# #MNISTデータセットを読み込む\n",
        "# from keras.datasets import mnist\n",
        "\n",
        "\n",
        "#学習用ライブラリ\n",
        "from tensorflow import keras\n",
        "#MNISTデータセットを読み込む\n",
        "from tensorflow.keras.datasets import mnist\n",
        "#学習モデル Sequentialモデル\n",
        "from tensorflow.keras.models import Sequential\n",
        "#ニューロンの各層\n",
        "from tensorflow.keras.layers import Dense, Dropout, Activation\n",
        "from tensorflow.keras.optimizers import RMSprop\n",
        "from keras.callbacks import EarlyStopping, CSVLogger\n",
        "\n",
        "\n",
        "#表示用にpyplotを読み込む\n",
        "%matplotlib inline\n",
        "import matplotlib.pyplot as plt\n"
      ]
    },
    {
      "cell_type": "code",
      "execution_count": 2,
      "metadata": {
        "id": "ZXy5TXW9Akt9"
      },
      "outputs": [],
      "source": [
        "#バッチサイズ（元のデータを何件ごとまとめて処理するか）\n",
        "batch_size = 128\n",
        "#クラス数（結果をいくつに分類するか）\n",
        "num_classes = 10\n",
        "#エポックサイズ（学習の回数：順伝播逆伝播の繰り返し数）\n",
        "epochs = 20"
      ]
    },
    {
      "cell_type": "code",
      "execution_count": 3,
      "metadata": {
        "colab": {
          "base_uri": "https://localhost:8080/"
        },
        "id": "MqurYHObCT1h",
        "outputId": "fa11738b-aa57-41ab-caa2-2f17719b6ad3"
      },
      "outputs": [
        {
          "name": "stdout",
          "output_type": "stream",
          "text": [
            "Downloading data from https://storage.googleapis.com/tensorflow/tf-keras-datasets/mnist.npz\n",
            "11490434/11490434 [==============================] - 1s 0us/step\n"
          ]
        }
      ],
      "source": [
        "#MNISTデータ読み込み\n",
        "#x_**は画像データ（説明変数）、y_**は答え（その画像が数字の何なのか。目的変数）\n",
        "#**_trainは学習用データ、**_testは検証用データ\n",
        "(x_train, y_train), (x_test, y_test) = mnist.load_data()"
      ]
    },
    {
      "cell_type": "markdown",
      "metadata": {
        "id": "v9f5Ma0Dn3JH"
      },
      "source": [
        "MNISTデータをいくつか表示"
      ]
    },
    {
      "cell_type": "code",
      "execution_count": 4,
      "metadata": {
        "colab": {
          "base_uri": "https://localhost:8080/",
          "height": 223
        },
        "id": "MDFjhLOZn95u",
        "outputId": "666f5d37-b6fa-48f1-a141-b7e8d097644c"
      },
      "outputs": [
        {
          "data": {
            "image/png": "[encoded data removed]",
            "text/plain": [
              "<Figure size 432x288 with 10 Axes>"
            ]
          },
          "metadata": {
            "needs_background": "light"
          },
          "output_type": "display_data"
        }
      ],
      "source": [
        "#ループしてx_trainに入ったMNISTの画像データを試しに表示\n",
        "for i in range(10):\n",
        "  #pyplotで表示していく\n",
        "  plt.subplot(2, 5, i + 1) #2行5列で、i+1番目の画像のプロットをセット\n",
        "  plt.title(\"M_%d\" % i) #「M_0」のような形式でタイトルを表示\n",
        "  plt.axis(\"off\") #軸線をオフ\n",
        "  plt.imshow(x_train[i].reshape(28, 28), cmap=None)\n",
        "#ループ終わり\n",
        "plt.show()"
      ]
    },
    {
      "cell_type": "code",
      "execution_count": 5,
      "metadata": {
        "id": "y-rhtkvndz3T"
      },
      "outputs": [],
      "source": [
        "#28*28ピクセルの画像を一行にすると、784ピクセルになる\n",
        "#横に784個、0～255までのRGB色数値が並ぶようにする\n",
        "#x_trainは60,000字（60,000行）分*784列の2次元配列に変換することになる\n",
        "x_train = x_train.reshape(60000, 784).astype('float32')\n",
        "#x_testは10,000字（10,000行）分*784列の2次元配列に変換することになる\n",
        "x_test = x_test.reshape(10000, 784).astype('float32')\n",
        "#画像ドットの色情報(RGB 0～255)を0～1の小数値の範囲に変換する\n",
        "x_train /= 255 #x_trainのひとつひとつを、255で割った値の上書き\n",
        "x_test /= 255\n",
        "#答えデータをnum_classesの数（10）に分類\n",
        "y_train = keras.utils.to_categorical(y_train, num_classes) #学習用\n",
        "y_test = keras.utils.to_categorical(y_test, num_classes) #検証用"
      ]
    },
    {
      "cell_type": "code",
      "execution_count": 6,
      "metadata": {
        "colab": {
          "base_uri": "https://localhost:8080/"
        },
        "id": "ha2PUqakeoAx",
        "outputId": "0c586bf0-3929-42e6-96aa-59ea3096529d"
      },
      "outputs": [
        {
          "name": "stdout",
          "output_type": "stream",
          "text": [
            "(60000, 784)\n",
            "(10000, 784)\n",
            "(60000, 10)\n",
            "(10000, 10)\n"
          ]
        }
      ],
      "source": [
        "#学習xデータ\n",
        "print(x_train.shape) #60,000行（6万文字レコード）784列\n",
        "#検証xデータ\n",
        "print(x_test.shape) #10,000行（1万文字レコード）784列\n",
        "#学習yデータ\n",
        "print(y_train.shape) #60,000行（6万文字レコード）、（num_class:0～9の分類）\n",
        "#検証yデータ\n",
        "print(y_test.shape) #10,000行（1万文字レコード）、（num_class:0～9の分類）"
      ]
    },
    {
      "cell_type": "code",
      "execution_count": 7,
      "metadata": {
        "id": "agdDMIXFex7y"
      },
      "outputs": [],
      "source": [
        "#学習モデルを生成\n",
        "model = Sequential()"
      ]
    },
    {
      "cell_type": "code",
      "execution_count": 8,
      "metadata": {
        "id": "KEOmeX3N8_qG"
      },
      "outputs": [],
      "source": [
        "\n",
        "#ニューラル層を作っていく\n",
        "#784次元のデータが、任意の数だけ入力され、512次元の形で出力される\n",
        "model.add(Dense(512, input_shape=(784, )))\n",
        "#活性化関数をrelu関数に指定\n",
        "model.add(Activation('relu'))\n",
        "#Dropout（データを間引いて過学習を防ぐ）\n",
        "model.add(Dropout(0.2)) #20%の結果値を0にリセット"
      ]
    },
    {
      "cell_type": "code",
      "execution_count": 9,
      "metadata": {
        "id": "HPvyuQXEA8ni"
      },
      "outputs": [],
      "source": [
        "#ニューロンの層の追加\n",
        "model.add(Dense(512)) #512の次元で出力される\n",
        "#活性化関数をrelu関数に指定\n",
        "model.add(Activation('relu'))\n",
        "#Dropout（データを間引いて過学習を防ぐ）\n",
        "model.add(Dropout(0.2))\n"
      ]
    },
    {
      "cell_type": "code",
      "execution_count": 10,
      "metadata": {
        "id": "rGZwFAcDERSG"
      },
      "outputs": [],
      "source": [
        "#ニューロンの3層目（出力層）の追加\n",
        "model.add(Dense(num_classes)) #最後は10個（num_classes）に分類\n",
        "#最後だけ活性化関数はsoftmaxを指定する\n",
        "#（複数の出力値の合計が「1.0」（ = 100%）になるような値を返してくれるから）\n",
        "model.add(Activation('softmax'))"
      ]
    },
    {
      "cell_type": "code",
      "execution_count": 11,
      "metadata": {
        "colab": {
          "base_uri": "https://localhost:8080/"
        },
        "id": "261ta6w4h_XW",
        "outputId": "774d1236-09c4-4271-b7b3-1304459b9b5e"
      },
      "outputs": [
        {
          "name": "stdout",
          "output_type": "stream",
          "text": [
            "Model: \"sequential\"\n",
            "_________________________________________________________________\n",
            " Layer (type)                Output Shape              Param #   \n",
            "=================================================================\n",
            " dense (Dense)               (None, 512)               401920    \n",
            "                                                                 \n",
            " activation (Activation)     (None, 512)               0         \n",
            "                                                                 \n",
            " dropout (Dropout)           (None, 512)               0         \n",
            "                                                                 \n",
            " dense_1 (Dense)             (None, 512)               262656    \n",
            "                                                                 \n",
            " activation_1 (Activation)   (None, 512)               0         \n",
            "                                                                 \n",
            " dropout_1 (Dropout)         (None, 512)               0         \n",
            "                                                                 \n",
            " dense_2 (Dense)             (None, 10)                5130      \n",
            "                                                                 \n",
            " activation_2 (Activation)   (None, 10)                0         \n",
            "                                                                 \n",
            "=================================================================\n",
            "Total params: 669,706\n",
            "Trainable params: 669,706\n",
            "Non-trainable params: 0\n",
            "_________________________________________________________________\n"
          ]
        }
      ],
      "source": [
        "#学習モデルのサマリ\n",
        "model.summary()"
      ]
    },
    {
      "cell_type": "code",
      "execution_count": 12,
      "metadata": {
        "id": "ogPloutbij6l"
      },
      "outputs": [],
      "source": [
        "model.compile(loss = 'categorical_crossentropy', #損失の基準（交換エントロピー誤差）\n",
        "              optimizer = RMSprop(),\n",
        "              metrics = ['accuracy']) #accuracy精度"
      ]
    },
    {
      "cell_type": "code",
      "execution_count": 13,
      "metadata": {
        "colab": {
          "base_uri": "https://localhost:8080/"
        },
        "id": "M_3FWEOV39-6",
        "outputId": "b9fe2b86-7b2a-43ee-e3bc-92cb8427d229"
      },
      "outputs": [
        {
          "name": "stdout",
          "output_type": "stream",
          "text": [
            "Epoch 1/20\n",
            "422/422 [==============================] - 10s 11ms/step - loss: 0.2606 - accuracy: 0.9196 - val_loss: 0.0921 - val_accuracy: 0.9707\n",
            "Epoch 2/20\n",
            "422/422 [==============================] - 2s 4ms/step - loss: 0.1091 - accuracy: 0.9668 - val_loss: 0.0748 - val_accuracy: 0.9795\n",
            "Epoch 3/20\n",
            "422/422 [==============================] - 2s 4ms/step - loss: 0.0772 - accuracy: 0.9765 - val_loss: 0.0813 - val_accuracy: 0.9780\n",
            "Epoch 4/20\n",
            "422/422 [==============================] - 2s 4ms/step - loss: 0.0621 - accuracy: 0.9815 - val_loss: 0.0704 - val_accuracy: 0.9838\n",
            "Epoch 5/20\n",
            "422/422 [==============================] - 2s 4ms/step - loss: 0.0521 - accuracy: 0.9840 - val_loss: 0.0713 - val_accuracy: 0.9823\n",
            "Epoch 6/20\n",
            "422/422 [==============================] - 2s 4ms/step - loss: 0.0434 - accuracy: 0.9871 - val_loss: 0.0784 - val_accuracy: 0.9820\n"
          ]
        }
      ],
      "source": [
        "#コールバック処理の準備\n",
        "#学習が進んで損失がそれ以上下がらなければ早期終了する\n",
        "#patience=2は、2回学習分だけ、終了まで様子を見る\n",
        "es = EarlyStopping(monitor = 'val_loss', patience=2)\n",
        "#ログ出力\n",
        "csv_logger = CSVLogger('training.log')\n",
        "\n",
        "#学習モデルに学習させる\n",
        "#（正解データにフィットするように重みを調整する）\n",
        "hist = model.fit(\n",
        "    x_train, #学習用画像データ：問題\n",
        "    y_train, #学習用画像データ；正解\n",
        "    batch_size,  #バッチサイズ（batch_size = 20）\n",
        "    epochs = epochs, #エポック数（学習回数）（epochs = 20）\n",
        "    verbose = 1, #進行状況を表示\n",
        "    validation_split = 0.1, #validationデータ（検証データ、チェックデータ）の割合（10%：この分は学習に使わず、検証チェックに使う）\n",
        "    callbacks = [es, csv_logger] #コールバック処理\n",
        "    )"
      ]
    },
    {
      "cell_type": "code",
      "execution_count": 14,
      "metadata": {
        "colab": {
          "base_uri": "https://localhost:8080/"
        },
        "id": "izpEGC0Sj1hp",
        "outputId": "a8ac15c4-3b02-4939-bfe5-e17e76ffee0f"
      },
      "outputs": [
        {
          "name": "stdout",
          "output_type": "stream",
          "text": [
            "test loss: 0.0825299397110939\n",
            "test acc: 0.9801999926567078\n"
          ]
        }
      ],
      "source": [
        "#evaluateメソッドで検証する\n",
        "score = model.evaluate(x_test, y_test, verbose = 0) #検証結果を変数に代入\n",
        "print('test loss:', score[0]) #損失（誤り率）を表示\n",
        "print('test acc:', score[1]) #精度（正解率）を表示"
      ]
    },
    {
      "cell_type": "code",
      "execution_count": 15,
      "metadata": {
        "colab": {
          "base_uri": "https://localhost:8080/",
          "height": 279
        },
        "id": "Sz5C5lahkFFz",
        "outputId": "703e9eec-4f25-4481-b2d3-de571d1b8a08"
      },
      "outputs": [
        {
          "data": {
            "image/png": "[encoded data removed]",
            "text/plain": [
              "<Figure size 432x288 with 1 Axes>"
            ]
          },
          "metadata": {
            "needs_background": "light"
          },
          "output_type": "display_data"
        }
      ],
      "source": [
        "loss = hist.history['loss']\n",
        "val_loss = hist.history['val_loss']\n",
        "\n",
        "epochs = len(loss)\n",
        "plt.plot(range(epochs), loss, marker = '.', label = 'loss(training data')\n",
        "plt.plot(range(epochs), val_loss, marker = '.', label = 'val_loss(evaluationdata)')\n",
        "plt.legend(loc = 'best')\n",
        "plt.grid()\n",
        "plt.xlabel('epoch')\n",
        "plt.ylabel('loss')\n",
        "#最後に表示\n",
        "plt.show()"
      ]
    },
    {
      "cell_type": "code",
      "execution_count": null,
      "metadata": {
        "id": "ANRXSYbuZcnE"
      },
      "outputs": [],
      "source": []
    }
  ],
  "metadata": {
    "accelerator": "GPU",
    "colab": {
      "include_colab_link": true,
      "provenance": [],
      "toc_visible": true
    },
    "gpuClass": "standard",
    "kernelspec": {
      "display_name": "Python 3",
      "name": "python3"
    },
    "language_info": {
      "name": "python"
    }
  },
  "nbformat": 4,
  "nbformat_minor": 0
}
