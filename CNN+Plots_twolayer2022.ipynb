{
  "nbformat": 4,
  "nbformat_minor": 0,
  "metadata": {
    "colab": {
      "provenance": [],
      "authorship_tag": "ABX9TyMEeLlnmOLCgWYE8UZWNPM4",
      "include_colab_link": true
    },
    "kernelspec": {
      "name": "python3",
      "display_name": "Python 3"
    },
    "language_info": {
      "name": "python"
    }
  },
  "cells": [
    {
      "cell_type": "markdown",
      "metadata": {
        "id": "view-in-github",
        "colab_type": "text"
      },
      "source": [
        "<a href=\"https://colab.research.google.com/github/sherbw28/deeplearning/blob/main/CNN%2BPlots_twolayer2022.ipynb\" target=\"_parent\"><img src=\"https://colab.research.google.com/assets/colab-badge.svg\" alt=\"Open In Colab\"/></a>"
      ]
    },
    {
      "cell_type": "code",
      "execution_count": 1,
      "metadata": {
        "id": "dIoar1x3DkQp"
      },
      "outputs": [],
      "source": [
        "from keras.models import Sequential, Model\n",
        "from keras.layers import Conv2D"
      ]
    },
    {
      "cell_type": "code",
      "source": [
        "from IPython.display import SVG\n",
        "from keras.utils.vis_utils import model_to_dot"
      ],
      "metadata": {
        "id": "-z5sck56EBvR"
      },
      "execution_count": 2,
      "outputs": []
    },
    {
      "cell_type": "code",
      "source": [
        "model = Sequential()\n",
        "model.add(Conv2D(filters=3,\n",
        "                 kernel_size=(3, 3),\n",
        "                 input_shape=(6, 6, 1), \n",
        "                 name='Conv2D_1'\n",
        "                 ))"
      ],
      "metadata": {
        "id": "pXPq4DJrEDVf"
      },
      "execution_count": 3,
      "outputs": []
    },
    {
      "cell_type": "code",
      "source": [
        "model.add(Conv2D(filters=3,\n",
        "                 kernel_size=(3, 3),\n",
        "                 name='Conv2D_2'\n",
        "                 ))"
      ],
      "metadata": {
        "id": "wDqTsu5iEH7I"
      },
      "execution_count": 4,
      "outputs": []
    },
    {
      "cell_type": "code",
      "source": [
        "SVG(model_to_dot(model, show_shapes=True, dpi=None).create(prog='dot', format='svg'))"
      ],
      "metadata": {
        "id": "PVN1w-7cEK3C",
        "outputId": "8c56f781-edaa-4559-a063-fd5ac20731dd",
        "colab": {
          "base_uri": "https://localhost:8080/",
          "height": 315
        }
      },
      "execution_count": 5,
      "outputs": [
        {
          "output_type": "execute_result",
          "data": {
            "text/plain": [
              "<IPython.core.display.SVG object>"
            ],
            "image/svg+xml": "<svg xmlns=\"http://www.w3.org/2000/svg\" xmlns:xlink=\"http://www.w3.org/1999/xlink\" width=\"368pt\" height=\"221pt\" viewBox=\"0.00 0.00 368.00 221.00\">\n<g id=\"graph0\" class=\"graph\" transform=\"scale(1 1) rotate(0) translate(4 217)\">\n<title>G</title>\n<polygon fill=\"#ffffff\" stroke=\"transparent\" points=\"-4,4 -4,-217 364,-217 364,4 -4,4\"/>\n<!-- dpi -->\n<g id=\"node1\" class=\"node\">\n<title>dpi</title>\n<ellipse fill=\"none\" stroke=\"#000000\" cx=\"27\" cy=\"-189.5\" rx=\"27\" ry=\"18\"/>\n<text text-anchor=\"middle\" x=\"27\" y=\"-185.8\" font-family=\"Times,serif\" font-size=\"14.00\" fill=\"#000000\">dpi</text>\n</g>\n<!-- 140584246150912 -->\n<g id=\"node2\" class=\"node\">\n<title>140584246150912</title>\n<polygon fill=\"none\" stroke=\"#000000\" points=\"72,-166.5 72,-212.5 360,-212.5 360,-166.5 72,-166.5\"/>\n<text text-anchor=\"middle\" x=\"131.5\" y=\"-197.3\" font-family=\"Times,serif\" font-size=\"14.00\" fill=\"#000000\">Conv2D_1_input</text>\n<polyline fill=\"none\" stroke=\"#000000\" points=\"72,-189.5 191,-189.5 \"/>\n<text text-anchor=\"middle\" x=\"131.5\" y=\"-174.3\" font-family=\"Times,serif\" font-size=\"14.00\" fill=\"#000000\">InputLayer</text>\n<polyline fill=\"none\" stroke=\"#000000\" points=\"191,-166.5 191,-212.5 \"/>\n<text text-anchor=\"middle\" x=\"220\" y=\"-197.3\" font-family=\"Times,serif\" font-size=\"14.00\" fill=\"#000000\">input:</text>\n<polyline fill=\"none\" stroke=\"#000000\" points=\"191,-189.5 249,-189.5 \"/>\n<text text-anchor=\"middle\" x=\"220\" y=\"-174.3\" font-family=\"Times,serif\" font-size=\"14.00\" fill=\"#000000\">output:</text>\n<polyline fill=\"none\" stroke=\"#000000\" points=\"249,-166.5 249,-212.5 \"/>\n<text text-anchor=\"middle\" x=\"304.5\" y=\"-197.3\" font-family=\"Times,serif\" font-size=\"14.00\" fill=\"#000000\">[(None, 6, 6, 1)]</text>\n<polyline fill=\"none\" stroke=\"#000000\" points=\"249,-189.5 360,-189.5 \"/>\n<text text-anchor=\"middle\" x=\"304.5\" y=\"-174.3\" font-family=\"Times,serif\" font-size=\"14.00\" fill=\"#000000\">[(None, 6, 6, 1)]</text>\n</g>\n<!-- 140584246151008 -->\n<g id=\"node3\" class=\"node\">\n<title>140584246151008</title>\n<polygon fill=\"none\" stroke=\"#000000\" points=\"95,-83.5 95,-129.5 337,-129.5 337,-83.5 95,-83.5\"/>\n<text text-anchor=\"middle\" x=\"136\" y=\"-114.3\" font-family=\"Times,serif\" font-size=\"14.00\" fill=\"#000000\">Conv2D_1</text>\n<polyline fill=\"none\" stroke=\"#000000\" points=\"95,-106.5 177,-106.5 \"/>\n<text text-anchor=\"middle\" x=\"136\" y=\"-91.3\" font-family=\"Times,serif\" font-size=\"14.00\" fill=\"#000000\">Conv2D</text>\n<polyline fill=\"none\" stroke=\"#000000\" points=\"177,-83.5 177,-129.5 \"/>\n<text text-anchor=\"middle\" x=\"206\" y=\"-114.3\" font-family=\"Times,serif\" font-size=\"14.00\" fill=\"#000000\">input:</text>\n<polyline fill=\"none\" stroke=\"#000000\" points=\"177,-106.5 235,-106.5 \"/>\n<text text-anchor=\"middle\" x=\"206\" y=\"-91.3\" font-family=\"Times,serif\" font-size=\"14.00\" fill=\"#000000\">output:</text>\n<polyline fill=\"none\" stroke=\"#000000\" points=\"235,-83.5 235,-129.5 \"/>\n<text text-anchor=\"middle\" x=\"286\" y=\"-114.3\" font-family=\"Times,serif\" font-size=\"14.00\" fill=\"#000000\">(None, 6, 6, 1)</text>\n<polyline fill=\"none\" stroke=\"#000000\" points=\"235,-106.5 337,-106.5 \"/>\n<text text-anchor=\"middle\" x=\"286\" y=\"-91.3\" font-family=\"Times,serif\" font-size=\"14.00\" fill=\"#000000\">(None, 4, 4, 3)</text>\n</g>\n<!-- 140584246150912&#45;&gt;140584246151008 -->\n<g id=\"edge1\" class=\"edge\">\n<title>140584246150912-&gt;140584246151008</title>\n<path fill=\"none\" stroke=\"#000000\" d=\"M216,-166.3799C216,-158.1745 216,-148.7679 216,-139.8786\"/>\n<polygon fill=\"#000000\" stroke=\"#000000\" points=\"219.5001,-139.784 216,-129.784 212.5001,-139.784 219.5001,-139.784\"/>\n</g>\n<!-- 140584172792800 -->\n<g id=\"node4\" class=\"node\">\n<title>140584172792800</title>\n<polygon fill=\"none\" stroke=\"#000000\" points=\"95,-.5 95,-46.5 337,-46.5 337,-.5 95,-.5\"/>\n<text text-anchor=\"middle\" x=\"136\" y=\"-31.3\" font-family=\"Times,serif\" font-size=\"14.00\" fill=\"#000000\">Conv2D_2</text>\n<polyline fill=\"none\" stroke=\"#000000\" points=\"95,-23.5 177,-23.5 \"/>\n<text text-anchor=\"middle\" x=\"136\" y=\"-8.3\" font-family=\"Times,serif\" font-size=\"14.00\" fill=\"#000000\">Conv2D</text>\n<polyline fill=\"none\" stroke=\"#000000\" points=\"177,-.5 177,-46.5 \"/>\n<text text-anchor=\"middle\" x=\"206\" y=\"-31.3\" font-family=\"Times,serif\" font-size=\"14.00\" fill=\"#000000\">input:</text>\n<polyline fill=\"none\" stroke=\"#000000\" points=\"177,-23.5 235,-23.5 \"/>\n<text text-anchor=\"middle\" x=\"206\" y=\"-8.3\" font-family=\"Times,serif\" font-size=\"14.00\" fill=\"#000000\">output:</text>\n<polyline fill=\"none\" stroke=\"#000000\" points=\"235,-.5 235,-46.5 \"/>\n<text text-anchor=\"middle\" x=\"286\" y=\"-31.3\" font-family=\"Times,serif\" font-size=\"14.00\" fill=\"#000000\">(None, 4, 4, 3)</text>\n<polyline fill=\"none\" stroke=\"#000000\" points=\"235,-23.5 337,-23.5 \"/>\n<text text-anchor=\"middle\" x=\"286\" y=\"-8.3\" font-family=\"Times,serif\" font-size=\"14.00\" fill=\"#000000\">(None, 2, 2, 3)</text>\n</g>\n<!-- 140584246151008&#45;&gt;140584172792800 -->\n<g id=\"edge2\" class=\"edge\">\n<title>140584246151008-&gt;140584172792800</title>\n<path fill=\"none\" stroke=\"#000000\" d=\"M216,-83.3799C216,-75.1745 216,-65.7679 216,-56.8786\"/>\n<polygon fill=\"#000000\" stroke=\"#000000\" points=\"219.5001,-56.784 216,-46.784 212.5001,-56.784 219.5001,-56.784\"/>\n</g>\n</g>\n</svg>"
          },
          "metadata": {},
          "execution_count": 5
        }
      ]
    },
    {
      "cell_type": "code",
      "source": [
        "model.summary()"
      ],
      "metadata": {
        "id": "swaH4-lNEMR0",
        "outputId": "4a735de0-8958-427c-83fb-dd7786cbd293",
        "colab": {
          "base_uri": "https://localhost:8080/"
        }
      },
      "execution_count": 6,
      "outputs": [
        {
          "output_type": "stream",
          "name": "stdout",
          "text": [
            "Model: \"sequential\"\n",
            "_________________________________________________________________\n",
            " Layer (type)                Output Shape              Param #   \n",
            "=================================================================\n",
            " Conv2D_1 (Conv2D)           (None, 4, 4, 3)           30        \n",
            "                                                                 \n",
            " Conv2D_2 (Conv2D)           (None, 2, 2, 3)           84        \n",
            "                                                                 \n",
            "=================================================================\n",
            "Total params: 114\n",
            "Trainable params: 114\n",
            "Non-trainable params: 0\n",
            "_________________________________________________________________\n"
          ]
        }
      ]
    },
    {
      "cell_type": "code",
      "source": [],
      "metadata": {
        "id": "C0Fm8ao0EOTP"
      },
      "execution_count": null,
      "outputs": []
    }
  ]
}