{
  "cells": [
    {
      "cell_type": "markdown",
      "metadata": {
        "colab_type": "text",
        "id": "view-in-github"
      },
      "source": [
        "<a href=\"https://colab.research.google.com/github/sherbw28/class_deep/blob/main/%E3%83%86%E3%82%B9%E3%83%880913_1.ipynb\" target=\"_parent\"><img src=\"https://colab.research.google.com/assets/colab-badge.svg\" alt=\"Open In Colab\"/></a>"
      ]
    },
    {
      "cell_type": "markdown",
      "metadata": {
        "id": "CMYWMJgoVDpX"
      },
      "source": [
        "**リスト型とタプル型**<br>\n",
        "リストとタプル"
      ]
    },
    {
      "cell_type": "code",
      "execution_count": 2,
      "metadata": {
        "colab": {
          "base_uri": "https://localhost:8080/"
        },
        "id": "Ew_5QootVIV8",
        "outputId": "68d275f4-98a6-4591-a98e-8213938fd213"
      },
      "outputs": [
        {
          "name": "stdout",
          "output_type": "stream",
          "text": [
            "['アップル', 'ペン', 'ペン', 'パイナップル']\n",
            "ペンペン\n"
          ]
        }
      ],
      "source": [
        "li = ['アップル','ペン','ペン','パイナップル']\n",
        "print(li)\n",
        "print(li[1] + li[2])"
      ]
    },
    {
      "cell_type": "code",
      "execution_count": 4,
      "metadata": {
        "colab": {
          "base_uri": "https://localhost:8080/"
        },
        "id": "yxyZxtTIXvq9",
        "outputId": "eaf916ce-da27-44b2-b323-ca5175671b99"
      },
      "outputs": [
        {
          "name": "stdout",
          "output_type": "stream",
          "text": [
            "('apple', 'orange', 'banana')\n"
          ]
        }
      ],
      "source": [
        "tup = (\"apple\",\"orange\",\"banana\")\n",
        "print(tup)"
      ]
    },
    {
      "cell_type": "markdown",
      "metadata": {
        "id": "YiaNsxlGXmWQ"
      },
      "source": [
        "構成を変更できるのはリスト<br>\n",
        "構成を変更できない（固定）はタプル"
      ]
    },
    {
      "cell_type": "code",
      "execution_count": 9,
      "metadata": {
        "colab": {
          "base_uri": "https://localhost:8080/"
        },
        "id": "qP598T0kWQUa",
        "outputId": "e1f875c1-bbb5-464a-9a28-588d13a4a001"
      },
      "outputs": [
        {
          "name": "stdout",
          "output_type": "stream",
          "text": [
            "['アップル', 'ペン', 'パイナップル', 100, 100, 100]\n",
            "['アップル', 'ペン', 'パイナップル', 100, 100, 100, 100]\n",
            "['アップル', 'ペン', 100, 100, 100, 100]\n",
            "['アップル', 'ペン', 100, 'ペン', 100, 100]\n"
          ]
        }
      ],
      "source": [
        "print(li)\n",
        "li.append(100)\n",
        "print(li)\n",
        "del li[2]\n",
        "print(li)\n",
        "li[3] = \"ペン\"\n",
        "print(li)"
      ]
    },
    {
      "cell_type": "markdown",
      "metadata": {
        "id": "-s0Gj6n-b6CJ"
      },
      "source": [
        "リストやタプルの長さの取得<br>"
      ]
    },
    {
      "cell_type": "markdown",
      "metadata": {
        "id": "7sajRbrKdI0K"
      },
      "source": [
        "データを抽出する（データを一部分取り出す）<br>"
      ]
    },
    {
      "cell_type": "code",
      "execution_count": 10,
      "metadata": {
        "colab": {
          "base_uri": "https://localhost:8080/"
        },
        "id": "e-B7IAJcb9ty",
        "outputId": "6e3d5da8-8769-4e4d-9b07-e661f46c8b90"
      },
      "outputs": [
        {
          "name": "stdout",
          "output_type": "stream",
          "text": [
            "['アップル', 'ペン', 100, 'ペン', 100, 100]\n",
            "ペン\n",
            "['ペン', 100]\n",
            "['ペン', 100, 'ペン', 100, 100]\n"
          ]
        }
      ],
      "source": [
        "print(li)\n",
        "print(li[1])\n",
        "print(li[1:3])\n",
        "print(li[1:])"
      ]
    },
    {
      "cell_type": "code",
      "execution_count": null,
      "metadata": {
        "id": "_SzeGkxgeQu4"
      },
      "outputs": [],
      "source": []
    },
    {
      "cell_type": "markdown",
      "metadata": {
        "id": "qqTIebsZeUs_"
      },
      "source": [
        "# SET型(集合型)\n",
        "集合型SETは、順番を持たない。重複したデータも持たない。"
      ]
    },
    {
      "cell_type": "code",
      "execution_count": 12,
      "metadata": {
        "colab": {
          "base_uri": "https://localhost:8080/"
        },
        "id": "-JzMllPVfmO2",
        "outputId": "677678bb-d64c-42db-8a3f-4974a56bc68d"
      },
      "outputs": [
        {
          "name": "stdout",
          "output_type": "stream",
          "text": [
            "{'アップル', 'ペン', 'パイナップル'}\n"
          ]
        }
      ],
      "source": [
        "uniq = set(['アップル','ペン','ペン','パイナップル'])\n",
        "print(uniq)"
      ]
    },
    {
      "cell_type": "code",
      "execution_count": 13,
      "metadata": {
        "colab": {
          "base_uri": "https://localhost:8080/"
        },
        "id": "QQWKpyNSfuPO",
        "outputId": "cea0c05c-4c6e-4ff5-8d42-fd297c92ccce"
      },
      "outputs": [
        {
          "name": "stdout",
          "output_type": "stream",
          "text": [
            "{'バナナ', 'アップル', 'パイナップル'}\n"
          ]
        }
      ],
      "source": [
        "uniq.add(\"バナナ\")\n",
        "uniq.remove(\"ペン\")\n",
        "print(uniq)"
      ]
    },
    {
      "cell_type": "markdown",
      "metadata": {
        "id": "wIaPDbsniXmK"
      },
      "source": [
        "# 集合演算\n",
        "包括、積、和、差分"
      ]
    },
    {
      "cell_type": "code",
      "execution_count": 18,
      "metadata": {
        "colab": {
          "base_uri": "https://localhost:8080/"
        },
        "id": "C6qp_Fa8icC6",
        "outputId": "8e8343e5-edc6-414b-d166-5bff5ca218d5"
      },
      "outputs": [
        {
          "name": "stdout",
          "output_type": "stream",
          "text": [
            "{'アップル', 'ペン', 'パイナップル'}\n",
            "{'アップル', 'ペン'}\n",
            "{'パイナップル', 'ペン'}\n"
          ]
        },
        {
          "data": {
            "text/plain": [
              "True"
            ]
          },
          "execution_count": 18,
          "metadata": {},
          "output_type": "execute_result"
        }
      ],
      "source": [
        "uniq = set([\"アップル\",\"ペン\",\"ペン\",\"パイナップル\"])\n",
        "a = set(['アップル','ペン'])\n",
        "b = set(['ペン',\"パイナップル\"])\n",
        "print(uniq)\n",
        "print(a)\n",
        "print(b)\n",
        "a.issubset(uniq)"
      ]
    },
    {
      "cell_type": "code",
      "execution_count": 21,
      "metadata": {
        "colab": {
          "base_uri": "https://localhost:8080/"
        },
        "id": "VIKM8B5-il9U",
        "outputId": "bbd0fc72-0ac1-4411-dfa1-8ed47c29151c"
      },
      "outputs": [
        {
          "name": "stdout",
          "output_type": "stream",
          "text": [
            "{'アップル', 'ペン'}\n",
            "{'パイナップル', 'ペン'}\n",
            "{'ペン'}\n",
            "{'アップル', 'ペン', 'パイナップル'}\n"
          ]
        },
        {
          "data": {
            "text/plain": [
              "{'アップル'}"
            ]
          },
          "execution_count": 21,
          "metadata": {},
          "output_type": "execute_result"
        }
      ],
      "source": [
        "print(a)\n",
        "print(b)\n",
        "print(a.intersection(b))\n",
        "print(a.union(b))\n",
        "a.difference(b)\n"
      ]
    },
    {
      "cell_type": "code",
      "execution_count": null,
      "metadata": {
        "id": "x1STRs2XquY0"
      },
      "outputs": [],
      "source": []
    }
  ],
  "metadata": {
    "colab": {
      "authorship_tag": "ABX9TyPggqXkonDxi7XcIxz7ZTm0",
      "include_colab_link": true,
      "provenance": [],
      "toc_visible": true
    },
    "kernelspec": {
      "display_name": "Python 3",
      "name": "python3"
    },
    "language_info": {
      "name": "python"
    }
  },
  "nbformat": 4,
  "nbformat_minor": 0
}
