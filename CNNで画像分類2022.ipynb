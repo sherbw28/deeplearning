{
  "nbformat": 4,
  "nbformat_minor": 0,
  "metadata": {
    "colab": {
      "provenance": [],
      "authorship_tag": "ABX9TyNenl8FZZM1IHEK/IdLIiVV",
      "include_colab_link": true
    },
    "kernelspec": {
      "name": "python3",
      "display_name": "Python 3"
    },
    "language_info": {
      "name": "python"
    },
    "accelerator": "GPU",
    "gpuClass": "standard"
  },
  "cells": [
    {
      "cell_type": "markdown",
      "metadata": {
        "id": "view-in-github",
        "colab_type": "text"
      },
      "source": [
        "<a href=\"https://colab.research.google.com/github/sherbw28/class_deep/blob/main/CNN%E3%81%A7%E7%94%BB%E5%83%8F%E5%88%86%E9%A1%9E2022.ipynb\" target=\"_parent\"><img src=\"https://colab.research.google.com/assets/colab-badge.svg\" alt=\"Open In Colab\"/></a>"
      ]
    },
    {
      "cell_type": "code",
      "source": [
        "from keras.models import Sequential\n",
        "from keras.layers import Conv2D, Flatten, Dense, MaxPooling2D, Dropout"
      ],
      "metadata": {
        "id": "j57Azk7PyGiG"
      },
      "execution_count": 2,
      "outputs": []
    },
    {
      "cell_type": "code",
      "source": [
        "import tensorflow as tf\n",
        "import numpy as np\n",
        "import pandas as pd\n",
        "import cv2\n",
        "from matplotlib import pyplot"
      ],
      "metadata": {
        "id": "zfedvjH4yWbN"
      },
      "execution_count": 3,
      "outputs": []
    },
    {
      "cell_type": "code",
      "source": [
        "cifar = tf.keras.datasets.cifar10"
      ],
      "metadata": {
        "id": "5w7jL-CGy0rp"
      },
      "execution_count": 4,
      "outputs": []
    },
    {
      "cell_type": "code",
      "source": [
        "(x_train,y_train),(x_test,y_test) = cifar.load_data()"
      ],
      "metadata": {
        "colab": {
          "base_uri": "https://localhost:8080/"
        },
        "id": "hWwZ0BbnEK5K",
        "outputId": "277405ca-e8d9-4e37-ec14-cb88ab1bfd61"
      },
      "execution_count": 5,
      "outputs": [
        {
          "output_type": "stream",
          "name": "stdout",
          "text": [
            "Downloading data from https://www.cs.toronto.edu/~kriz/cifar-10-python.tar.gz\n",
            "170498071/170498071 [==============================] - 6s 0us/step\n"
          ]
        }
      ]
    },
    {
      "cell_type": "code",
      "source": [
        "labels = ['飛行機','自動車','鳥','猫','鹿','犬','カエル','馬','船','トラック']"
      ],
      "metadata": {
        "id": "7Mp9DCUmESUq"
      },
      "execution_count": 6,
      "outputs": []
    },
    {
      "cell_type": "code",
      "source": [
        "x_train = x_train.astype('float32') / 255\n",
        "x_test = x_test.astype('float32') / 255"
      ],
      "metadata": {
        "id": "Uqg5cYjlPiGF"
      },
      "execution_count": 7,
      "outputs": []
    },
    {
      "cell_type": "code",
      "source": [
        "y_train = tf.keras.utils.to_categorical(y_train,10)\n",
        "y_test = tf.keras.utils.to_categorical(y_test,10)"
      ],
      "metadata": {
        "id": "T-WJBBQXz1Kb"
      },
      "execution_count": 8,
      "outputs": []
    },
    {
      "cell_type": "code",
      "source": [
        "from PIL import Image\n",
        "for i in range(0,40):\n",
        "  im = Image.fromarray(x_train[i])\n",
        "  pyplot.subplot(5,8,i+1)\n",
        "  pyplot.imshow(im)\n",
        "pyplot.show()"
      ],
      "metadata": {
        "colab": {
          "base_uri": "https://localhost:8080/",
          "height": 447
        },
        "id": "kzDMMByc0AnD",
        "outputId": "129beb71-86da-4806-bc56-a3db0545e234"
      },
      "execution_count": 17,
      "outputs": [
        {
          "output_type": "error",
          "ename": "TypeError",
          "evalue": "ignored",
          "traceback": [
            "\u001b[0;31m---------------------------------------------------------------------------\u001b[0m",
            "\u001b[0;31mKeyError\u001b[0m                                  Traceback (most recent call last)",
            "\u001b[0;32m/usr/local/lib/python3.7/dist-packages/PIL/Image.py\u001b[0m in \u001b[0;36mfromarray\u001b[0;34m(obj, mode)\u001b[0m\n\u001b[1;32m   2713\u001b[0m         \u001b[0;32mtry\u001b[0m\u001b[0;34m:\u001b[0m\u001b[0;34m\u001b[0m\u001b[0;34m\u001b[0m\u001b[0m\n\u001b[0;32m-> 2714\u001b[0;31m             \u001b[0mmode\u001b[0m\u001b[0;34m,\u001b[0m \u001b[0mrawmode\u001b[0m \u001b[0;34m=\u001b[0m \u001b[0m_fromarray_typemap\u001b[0m\u001b[0;34m[\u001b[0m\u001b[0mtypekey\u001b[0m\u001b[0;34m]\u001b[0m\u001b[0;34m\u001b[0m\u001b[0;34m\u001b[0m\u001b[0m\n\u001b[0m\u001b[1;32m   2715\u001b[0m         \u001b[0;32mexcept\u001b[0m \u001b[0mKeyError\u001b[0m\u001b[0;34m:\u001b[0m\u001b[0;34m\u001b[0m\u001b[0;34m\u001b[0m\u001b[0m\n",
            "\u001b[0;31mKeyError\u001b[0m: ((1, 1, 3), '<f4')",
            "\nDuring handling of the above exception, another exception occurred:\n",
            "\u001b[0;31mTypeError\u001b[0m                                 Traceback (most recent call last)",
            "\u001b[0;32m<ipython-input-17-c9bf2c76162e>\u001b[0m in \u001b[0;36m<module>\u001b[0;34m\u001b[0m\n\u001b[1;32m      1\u001b[0m \u001b[0;32mfrom\u001b[0m \u001b[0mPIL\u001b[0m \u001b[0;32mimport\u001b[0m \u001b[0mImage\u001b[0m\u001b[0;34m\u001b[0m\u001b[0;34m\u001b[0m\u001b[0m\n\u001b[1;32m      2\u001b[0m \u001b[0;32mfor\u001b[0m \u001b[0mi\u001b[0m \u001b[0;32min\u001b[0m \u001b[0mrange\u001b[0m\u001b[0;34m(\u001b[0m\u001b[0;36m0\u001b[0m\u001b[0;34m,\u001b[0m\u001b[0;36m40\u001b[0m\u001b[0;34m)\u001b[0m\u001b[0;34m:\u001b[0m\u001b[0;34m\u001b[0m\u001b[0;34m\u001b[0m\u001b[0m\n\u001b[0;32m----> 3\u001b[0;31m   \u001b[0mim\u001b[0m \u001b[0;34m=\u001b[0m \u001b[0mImage\u001b[0m\u001b[0;34m.\u001b[0m\u001b[0mfromarray\u001b[0m\u001b[0;34m(\u001b[0m\u001b[0mx_train\u001b[0m\u001b[0;34m[\u001b[0m\u001b[0mi\u001b[0m\u001b[0;34m]\u001b[0m\u001b[0;34m)\u001b[0m\u001b[0;34m\u001b[0m\u001b[0;34m\u001b[0m\u001b[0m\n\u001b[0m\u001b[1;32m      4\u001b[0m   \u001b[0mpyplot\u001b[0m\u001b[0;34m.\u001b[0m\u001b[0msubplot\u001b[0m\u001b[0;34m(\u001b[0m\u001b[0;36m5\u001b[0m\u001b[0;34m,\u001b[0m\u001b[0;36m8\u001b[0m\u001b[0;34m,\u001b[0m\u001b[0mi\u001b[0m\u001b[0;34m+\u001b[0m\u001b[0;36m1\u001b[0m\u001b[0;34m)\u001b[0m\u001b[0;34m\u001b[0m\u001b[0;34m\u001b[0m\u001b[0m\n\u001b[1;32m      5\u001b[0m   \u001b[0mpyplot\u001b[0m\u001b[0;34m.\u001b[0m\u001b[0mimshow\u001b[0m\u001b[0;34m(\u001b[0m\u001b[0mim\u001b[0m\u001b[0;34m)\u001b[0m\u001b[0;34m\u001b[0m\u001b[0;34m\u001b[0m\u001b[0m\n",
            "\u001b[0;32m/usr/local/lib/python3.7/dist-packages/PIL/Image.py\u001b[0m in \u001b[0;36mfromarray\u001b[0;34m(obj, mode)\u001b[0m\n\u001b[1;32m   2714\u001b[0m             \u001b[0mmode\u001b[0m\u001b[0;34m,\u001b[0m \u001b[0mrawmode\u001b[0m \u001b[0;34m=\u001b[0m \u001b[0m_fromarray_typemap\u001b[0m\u001b[0;34m[\u001b[0m\u001b[0mtypekey\u001b[0m\u001b[0;34m]\u001b[0m\u001b[0;34m\u001b[0m\u001b[0;34m\u001b[0m\u001b[0m\n\u001b[1;32m   2715\u001b[0m         \u001b[0;32mexcept\u001b[0m \u001b[0mKeyError\u001b[0m\u001b[0;34m:\u001b[0m\u001b[0;34m\u001b[0m\u001b[0;34m\u001b[0m\u001b[0m\n\u001b[0;32m-> 2716\u001b[0;31m             \u001b[0;32mraise\u001b[0m \u001b[0mTypeError\u001b[0m\u001b[0;34m(\u001b[0m\u001b[0;34m\"Cannot handle this data type: %s, %s\"\u001b[0m \u001b[0;34m%\u001b[0m \u001b[0mtypekey\u001b[0m\u001b[0;34m)\u001b[0m\u001b[0;34m\u001b[0m\u001b[0;34m\u001b[0m\u001b[0m\n\u001b[0m\u001b[1;32m   2717\u001b[0m     \u001b[0;32melse\u001b[0m\u001b[0;34m:\u001b[0m\u001b[0;34m\u001b[0m\u001b[0;34m\u001b[0m\u001b[0m\n\u001b[1;32m   2718\u001b[0m         \u001b[0mrawmode\u001b[0m \u001b[0;34m=\u001b[0m \u001b[0mmode\u001b[0m\u001b[0;34m\u001b[0m\u001b[0;34m\u001b[0m\u001b[0m\n",
            "\u001b[0;31mTypeError\u001b[0m: Cannot handle this data type: (1, 1, 3), <f4"
          ]
        }
      ]
    },
    {
      "cell_type": "code",
      "source": [
        "num_classes = len(labels)\n",
        "in_shape = (32,32,3)\n",
        "model = Sequential([\n",
        "    Conv2D(32,(3,3),padding='same',input_shape=in_shape),\n",
        "    tf.keras.layers.Activation('relu'),\n",
        "    Conv2D(32,(3,3),padding='same'),\n",
        "    tf.keras.layers.Activation('relu'),\n",
        "    MaxPooling2D(pool_size=(2,2)),\n",
        "    Dropout(0.25),\n",
        "    Conv2D(32,(3,3),padding='same'),\n",
        "    tf.keras.layers.Activation('relu'),\n",
        "    Conv2D(32,(3,3),padding='same'),\n",
        "    tf.keras.layers.Activation('relu'),\n",
        "    MaxPooling2D(pool_size=(2,2)),\n",
        "    Dropout(0.25),\n",
        "\n",
        "    Flatten(),\n",
        "    Dense(512),\n",
        "    tf.keras.layers.Activation('relu'),\n",
        "    Dropout(0.5),\n",
        "    Dense(num_classes),\n",
        "    tf.keras.layers.Activation('softmax'),\n",
        "])"
      ],
      "metadata": {
        "id": "t765wr6Y0Xlc"
      },
      "execution_count": 9,
      "outputs": []
    },
    {
      "cell_type": "code",
      "source": [
        "model.compile(\n",
        "    loss='categorical_crossentropy',\n",
        "    optimizer='adam',\n",
        "    metrics=['accuracy']\n",
        ")"
      ],
      "metadata": {
        "id": "-9OwvmI-4SCJ"
      },
      "execution_count": 10,
      "outputs": []
    },
    {
      "cell_type": "code",
      "source": [
        "model.fit(\n",
        "    x_train,y_train,\n",
        "    batch_size=128,\n",
        "    epochs=100,\n",
        "    verbose=1,\n",
        "    validation_data=(x_test,y_test),\n",
        "\n",
        ")"
      ],
      "metadata": {
        "colab": {
          "base_uri": "https://localhost:8080/"
        },
        "id": "80qIZJS31nmF",
        "outputId": "e559d786-6735-4508-c7e1-0f78fdfb207f"
      },
      "execution_count": 11,
      "outputs": [
        {
          "output_type": "stream",
          "name": "stdout",
          "text": [
            "Epoch 1/100\n",
            "391/391 [==============================] - 15s 13ms/step - loss: 1.6490 - accuracy: 0.3968 - val_loss: 1.3029 - val_accuracy: 0.5255\n",
            "Epoch 2/100\n",
            "391/391 [==============================] - 4s 11ms/step - loss: 1.2365 - accuracy: 0.5572 - val_loss: 1.0780 - val_accuracy: 0.6123\n",
            "Epoch 3/100\n",
            "391/391 [==============================] - 4s 11ms/step - loss: 1.0741 - accuracy: 0.6184 - val_loss: 0.9620 - val_accuracy: 0.6581\n",
            "Epoch 4/100\n",
            "391/391 [==============================] - 4s 11ms/step - loss: 0.9811 - accuracy: 0.6503 - val_loss: 0.8582 - val_accuracy: 0.7000\n",
            "Epoch 5/100\n",
            "391/391 [==============================] - 5s 12ms/step - loss: 0.9016 - accuracy: 0.6801 - val_loss: 0.8535 - val_accuracy: 0.7020\n",
            "Epoch 6/100\n",
            "391/391 [==============================] - 5s 12ms/step - loss: 0.8438 - accuracy: 0.7013 - val_loss: 0.7933 - val_accuracy: 0.7237\n",
            "Epoch 7/100\n",
            "391/391 [==============================] - 5s 12ms/step - loss: 0.7934 - accuracy: 0.7182 - val_loss: 0.7481 - val_accuracy: 0.7391\n",
            "Epoch 8/100\n",
            "391/391 [==============================] - 5s 12ms/step - loss: 0.7533 - accuracy: 0.7335 - val_loss: 0.7281 - val_accuracy: 0.7443\n",
            "Epoch 9/100\n",
            "391/391 [==============================] - 5s 12ms/step - loss: 0.7175 - accuracy: 0.7432 - val_loss: 0.7169 - val_accuracy: 0.7519\n",
            "Epoch 10/100\n",
            "391/391 [==============================] - 5s 13ms/step - loss: 0.6910 - accuracy: 0.7534 - val_loss: 0.7017 - val_accuracy: 0.7574\n",
            "Epoch 11/100\n",
            "391/391 [==============================] - 4s 11ms/step - loss: 0.6559 - accuracy: 0.7687 - val_loss: 0.7179 - val_accuracy: 0.7544\n",
            "Epoch 12/100\n",
            "391/391 [==============================] - 5s 12ms/step - loss: 0.6326 - accuracy: 0.7778 - val_loss: 0.6714 - val_accuracy: 0.7709\n",
            "Epoch 13/100\n",
            "391/391 [==============================] - 5s 13ms/step - loss: 0.6108 - accuracy: 0.7843 - val_loss: 0.6633 - val_accuracy: 0.7710\n",
            "Epoch 14/100\n",
            "391/391 [==============================] - 5s 12ms/step - loss: 0.5851 - accuracy: 0.7925 - val_loss: 0.6930 - val_accuracy: 0.7641\n",
            "Epoch 15/100\n",
            "391/391 [==============================] - 5s 12ms/step - loss: 0.5631 - accuracy: 0.7996 - val_loss: 0.6427 - val_accuracy: 0.7777\n",
            "Epoch 16/100\n",
            "391/391 [==============================] - 5s 12ms/step - loss: 0.5455 - accuracy: 0.8065 - val_loss: 0.6565 - val_accuracy: 0.7778\n",
            "Epoch 17/100\n",
            "391/391 [==============================] - 6s 14ms/step - loss: 0.5239 - accuracy: 0.8131 - val_loss: 0.6651 - val_accuracy: 0.7747\n",
            "Epoch 18/100\n",
            "391/391 [==============================] - 5s 12ms/step - loss: 0.5190 - accuracy: 0.8146 - val_loss: 0.6537 - val_accuracy: 0.7777\n",
            "Epoch 19/100\n",
            "391/391 [==============================] - 5s 12ms/step - loss: 0.5032 - accuracy: 0.8207 - val_loss: 0.6398 - val_accuracy: 0.7833\n",
            "Epoch 20/100\n",
            "391/391 [==============================] - 5s 12ms/step - loss: 0.4825 - accuracy: 0.8263 - val_loss: 0.6454 - val_accuracy: 0.7857\n",
            "Epoch 21/100\n",
            "391/391 [==============================] - 4s 11ms/step - loss: 0.4748 - accuracy: 0.8298 - val_loss: 0.6359 - val_accuracy: 0.7866\n",
            "Epoch 22/100\n",
            "391/391 [==============================] - 5s 12ms/step - loss: 0.4605 - accuracy: 0.8342 - val_loss: 0.6427 - val_accuracy: 0.7839\n",
            "Epoch 23/100\n",
            "391/391 [==============================] - 5s 12ms/step - loss: 0.4499 - accuracy: 0.8398 - val_loss: 0.6877 - val_accuracy: 0.7766\n",
            "Epoch 24/100\n",
            "391/391 [==============================] - 4s 11ms/step - loss: 0.4432 - accuracy: 0.8430 - val_loss: 0.6552 - val_accuracy: 0.7817\n",
            "Epoch 25/100\n",
            "391/391 [==============================] - 5s 12ms/step - loss: 0.4315 - accuracy: 0.8459 - val_loss: 0.6509 - val_accuracy: 0.7855\n",
            "Epoch 26/100\n",
            "391/391 [==============================] - 5s 12ms/step - loss: 0.4207 - accuracy: 0.8477 - val_loss: 0.6656 - val_accuracy: 0.7856\n",
            "Epoch 27/100\n",
            "391/391 [==============================] - 5s 12ms/step - loss: 0.4110 - accuracy: 0.8520 - val_loss: 0.6423 - val_accuracy: 0.7887\n",
            "Epoch 28/100\n",
            "391/391 [==============================] - 5s 12ms/step - loss: 0.4057 - accuracy: 0.8547 - val_loss: 0.6476 - val_accuracy: 0.7883\n",
            "Epoch 29/100\n",
            "391/391 [==============================] - 5s 12ms/step - loss: 0.3970 - accuracy: 0.8574 - val_loss: 0.6997 - val_accuracy: 0.7788\n",
            "Epoch 30/100\n",
            "391/391 [==============================] - 5s 12ms/step - loss: 0.3961 - accuracy: 0.8583 - val_loss: 0.6656 - val_accuracy: 0.7847\n",
            "Epoch 31/100\n",
            "391/391 [==============================] - 5s 13ms/step - loss: 0.3875 - accuracy: 0.8607 - val_loss: 0.6530 - val_accuracy: 0.7908\n",
            "Epoch 32/100\n",
            "391/391 [==============================] - 5s 12ms/step - loss: 0.3769 - accuracy: 0.8653 - val_loss: 0.6516 - val_accuracy: 0.7903\n",
            "Epoch 33/100\n",
            "391/391 [==============================] - 5s 12ms/step - loss: 0.3732 - accuracy: 0.8661 - val_loss: 0.6622 - val_accuracy: 0.7888\n",
            "Epoch 34/100\n",
            "391/391 [==============================] - 5s 12ms/step - loss: 0.3696 - accuracy: 0.8675 - val_loss: 0.6751 - val_accuracy: 0.7843\n",
            "Epoch 35/100\n",
            "391/391 [==============================] - 5s 12ms/step - loss: 0.3577 - accuracy: 0.8719 - val_loss: 0.7017 - val_accuracy: 0.7834\n",
            "Epoch 36/100\n",
            "391/391 [==============================] - 5s 12ms/step - loss: 0.3519 - accuracy: 0.8751 - val_loss: 0.6755 - val_accuracy: 0.7890\n",
            "Epoch 37/100\n",
            "391/391 [==============================] - 5s 12ms/step - loss: 0.3509 - accuracy: 0.8756 - val_loss: 0.6724 - val_accuracy: 0.7879\n",
            "Epoch 38/100\n",
            "391/391 [==============================] - 5s 12ms/step - loss: 0.3398 - accuracy: 0.8779 - val_loss: 0.6755 - val_accuracy: 0.7910\n",
            "Epoch 39/100\n",
            "391/391 [==============================] - 5s 12ms/step - loss: 0.3344 - accuracy: 0.8791 - val_loss: 0.6783 - val_accuracy: 0.7878\n",
            "Epoch 40/100\n",
            "391/391 [==============================] - 5s 12ms/step - loss: 0.3367 - accuracy: 0.8793 - val_loss: 0.6738 - val_accuracy: 0.7933\n",
            "Epoch 41/100\n",
            "391/391 [==============================] - 5s 12ms/step - loss: 0.3286 - accuracy: 0.8817 - val_loss: 0.6864 - val_accuracy: 0.7934\n",
            "Epoch 42/100\n",
            "391/391 [==============================] - 5s 12ms/step - loss: 0.3229 - accuracy: 0.8831 - val_loss: 0.6685 - val_accuracy: 0.7929\n",
            "Epoch 43/100\n",
            "391/391 [==============================] - 5s 12ms/step - loss: 0.3226 - accuracy: 0.8843 - val_loss: 0.6946 - val_accuracy: 0.7858\n",
            "Epoch 44/100\n",
            "391/391 [==============================] - 5s 12ms/step - loss: 0.3182 - accuracy: 0.8857 - val_loss: 0.6679 - val_accuracy: 0.7967\n",
            "Epoch 45/100\n",
            "391/391 [==============================] - 5s 12ms/step - loss: 0.3206 - accuracy: 0.8853 - val_loss: 0.6870 - val_accuracy: 0.7848\n",
            "Epoch 46/100\n",
            "391/391 [==============================] - 5s 12ms/step - loss: 0.3148 - accuracy: 0.8870 - val_loss: 0.6867 - val_accuracy: 0.7926\n",
            "Epoch 47/100\n",
            "391/391 [==============================] - 5s 12ms/step - loss: 0.3170 - accuracy: 0.8876 - val_loss: 0.6890 - val_accuracy: 0.7910\n",
            "Epoch 48/100\n",
            "391/391 [==============================] - 5s 12ms/step - loss: 0.3116 - accuracy: 0.8879 - val_loss: 0.6798 - val_accuracy: 0.7916\n",
            "Epoch 49/100\n",
            "391/391 [==============================] - 4s 11ms/step - loss: 0.3037 - accuracy: 0.8915 - val_loss: 0.6898 - val_accuracy: 0.7937\n",
            "Epoch 50/100\n",
            "391/391 [==============================] - 5s 12ms/step - loss: 0.3039 - accuracy: 0.8912 - val_loss: 0.6911 - val_accuracy: 0.7956\n",
            "Epoch 51/100\n",
            "391/391 [==============================] - 5s 12ms/step - loss: 0.2969 - accuracy: 0.8948 - val_loss: 0.6929 - val_accuracy: 0.7922\n",
            "Epoch 52/100\n",
            "391/391 [==============================] - 5s 13ms/step - loss: 0.2911 - accuracy: 0.8959 - val_loss: 0.6792 - val_accuracy: 0.7948\n",
            "Epoch 53/100\n",
            "391/391 [==============================] - 5s 12ms/step - loss: 0.2905 - accuracy: 0.8963 - val_loss: 0.7197 - val_accuracy: 0.7864\n",
            "Epoch 54/100\n",
            "391/391 [==============================] - 4s 11ms/step - loss: 0.2940 - accuracy: 0.8943 - val_loss: 0.6845 - val_accuracy: 0.7943\n",
            "Epoch 55/100\n",
            "391/391 [==============================] - 5s 12ms/step - loss: 0.2882 - accuracy: 0.8966 - val_loss: 0.6895 - val_accuracy: 0.7946\n",
            "Epoch 56/100\n",
            "391/391 [==============================] - 5s 13ms/step - loss: 0.2872 - accuracy: 0.8976 - val_loss: 0.6791 - val_accuracy: 0.7954\n",
            "Epoch 57/100\n",
            "391/391 [==============================] - 5s 12ms/step - loss: 0.2814 - accuracy: 0.8992 - val_loss: 0.7085 - val_accuracy: 0.7972\n",
            "Epoch 58/100\n",
            "391/391 [==============================] - 5s 12ms/step - loss: 0.2861 - accuracy: 0.8967 - val_loss: 0.7078 - val_accuracy: 0.7921\n",
            "Epoch 59/100\n",
            "391/391 [==============================] - 5s 12ms/step - loss: 0.2711 - accuracy: 0.9044 - val_loss: 0.6964 - val_accuracy: 0.7962\n",
            "Epoch 60/100\n",
            "391/391 [==============================] - 5s 12ms/step - loss: 0.2809 - accuracy: 0.9007 - val_loss: 0.7297 - val_accuracy: 0.7911\n",
            "Epoch 61/100\n",
            "391/391 [==============================] - 5s 12ms/step - loss: 0.2780 - accuracy: 0.9024 - val_loss: 0.6937 - val_accuracy: 0.7923\n",
            "Epoch 62/100\n",
            "391/391 [==============================] - 5s 12ms/step - loss: 0.2756 - accuracy: 0.9022 - val_loss: 0.7046 - val_accuracy: 0.7923\n",
            "Epoch 63/100\n",
            "391/391 [==============================] - 5s 13ms/step - loss: 0.2766 - accuracy: 0.9020 - val_loss: 0.6870 - val_accuracy: 0.7940\n",
            "Epoch 64/100\n",
            "391/391 [==============================] - 5s 12ms/step - loss: 0.2672 - accuracy: 0.9042 - val_loss: 0.7078 - val_accuracy: 0.7967\n",
            "Epoch 65/100\n",
            "391/391 [==============================] - 5s 12ms/step - loss: 0.2696 - accuracy: 0.9052 - val_loss: 0.7015 - val_accuracy: 0.7963\n",
            "Epoch 66/100\n",
            "391/391 [==============================] - 5s 12ms/step - loss: 0.2626 - accuracy: 0.9076 - val_loss: 0.7174 - val_accuracy: 0.7917\n",
            "Epoch 67/100\n",
            "391/391 [==============================] - 5s 12ms/step - loss: 0.2650 - accuracy: 0.9054 - val_loss: 0.6949 - val_accuracy: 0.7951\n",
            "Epoch 68/100\n",
            "391/391 [==============================] - 5s 12ms/step - loss: 0.2623 - accuracy: 0.9066 - val_loss: 0.7010 - val_accuracy: 0.7955\n",
            "Epoch 69/100\n",
            "391/391 [==============================] - 5s 12ms/step - loss: 0.2675 - accuracy: 0.9061 - val_loss: 0.6907 - val_accuracy: 0.7982\n",
            "Epoch 70/100\n",
            "391/391 [==============================] - 5s 12ms/step - loss: 0.2549 - accuracy: 0.9096 - val_loss: 0.7543 - val_accuracy: 0.7891\n",
            "Epoch 71/100\n",
            "391/391 [==============================] - 5s 12ms/step - loss: 0.2586 - accuracy: 0.9101 - val_loss: 0.7129 - val_accuracy: 0.7954\n",
            "Epoch 72/100\n",
            "391/391 [==============================] - 5s 12ms/step - loss: 0.2601 - accuracy: 0.9083 - val_loss: 0.6940 - val_accuracy: 0.7970\n",
            "Epoch 73/100\n",
            "391/391 [==============================] - 5s 13ms/step - loss: 0.2514 - accuracy: 0.9116 - val_loss: 0.7127 - val_accuracy: 0.7966\n",
            "Epoch 74/100\n",
            "391/391 [==============================] - 5s 12ms/step - loss: 0.2584 - accuracy: 0.9091 - val_loss: 0.6962 - val_accuracy: 0.7964\n",
            "Epoch 75/100\n",
            "391/391 [==============================] - 4s 12ms/step - loss: 0.2565 - accuracy: 0.9114 - val_loss: 0.7276 - val_accuracy: 0.7930\n",
            "Epoch 76/100\n",
            "391/391 [==============================] - 5s 12ms/step - loss: 0.2518 - accuracy: 0.9102 - val_loss: 0.7539 - val_accuracy: 0.7943\n",
            "Epoch 77/100\n",
            "391/391 [==============================] - 5s 12ms/step - loss: 0.2458 - accuracy: 0.9133 - val_loss: 0.7228 - val_accuracy: 0.7981\n",
            "Epoch 78/100\n",
            "391/391 [==============================] - 5s 12ms/step - loss: 0.2520 - accuracy: 0.9104 - val_loss: 0.7097 - val_accuracy: 0.7970\n",
            "Epoch 79/100\n",
            "391/391 [==============================] - 5s 13ms/step - loss: 0.2401 - accuracy: 0.9148 - val_loss: 0.7281 - val_accuracy: 0.7925\n",
            "Epoch 80/100\n",
            "391/391 [==============================] - 5s 13ms/step - loss: 0.2478 - accuracy: 0.9132 - val_loss: 0.7327 - val_accuracy: 0.7929\n",
            "Epoch 81/100\n",
            "391/391 [==============================] - 5s 12ms/step - loss: 0.2442 - accuracy: 0.9144 - val_loss: 0.7256 - val_accuracy: 0.7943\n",
            "Epoch 82/100\n",
            "391/391 [==============================] - 5s 13ms/step - loss: 0.2460 - accuracy: 0.9141 - val_loss: 0.7143 - val_accuracy: 0.7906\n",
            "Epoch 83/100\n",
            "391/391 [==============================] - 5s 13ms/step - loss: 0.2398 - accuracy: 0.9149 - val_loss: 0.7079 - val_accuracy: 0.8017\n",
            "Epoch 84/100\n",
            "391/391 [==============================] - 5s 12ms/step - loss: 0.2417 - accuracy: 0.9132 - val_loss: 0.7388 - val_accuracy: 0.7903\n",
            "Epoch 85/100\n",
            "391/391 [==============================] - 4s 11ms/step - loss: 0.2368 - accuracy: 0.9165 - val_loss: 0.7621 - val_accuracy: 0.7898\n",
            "Epoch 86/100\n",
            "391/391 [==============================] - 4s 11ms/step - loss: 0.2367 - accuracy: 0.9157 - val_loss: 0.7252 - val_accuracy: 0.7982\n",
            "Epoch 87/100\n",
            "391/391 [==============================] - 4s 11ms/step - loss: 0.2400 - accuracy: 0.9159 - val_loss: 0.7361 - val_accuracy: 0.7947\n",
            "Epoch 88/100\n",
            "391/391 [==============================] - 4s 12ms/step - loss: 0.2386 - accuracy: 0.9163 - val_loss: 0.7166 - val_accuracy: 0.7946\n",
            "Epoch 89/100\n",
            "391/391 [==============================] - 4s 11ms/step - loss: 0.2404 - accuracy: 0.9141 - val_loss: 0.7468 - val_accuracy: 0.7966\n",
            "Epoch 90/100\n",
            "391/391 [==============================] - 4s 11ms/step - loss: 0.2344 - accuracy: 0.9188 - val_loss: 0.7356 - val_accuracy: 0.7945\n",
            "Epoch 91/100\n",
            "391/391 [==============================] - 5s 12ms/step - loss: 0.2354 - accuracy: 0.9176 - val_loss: 0.7280 - val_accuracy: 0.7947\n",
            "Epoch 92/100\n",
            "391/391 [==============================] - 4s 11ms/step - loss: 0.2342 - accuracy: 0.9182 - val_loss: 0.7080 - val_accuracy: 0.7957\n",
            "Epoch 93/100\n",
            "391/391 [==============================] - 5s 12ms/step - loss: 0.2327 - accuracy: 0.9175 - val_loss: 0.7391 - val_accuracy: 0.7962\n",
            "Epoch 94/100\n",
            "391/391 [==============================] - 5s 12ms/step - loss: 0.2297 - accuracy: 0.9188 - val_loss: 0.7043 - val_accuracy: 0.8010\n",
            "Epoch 95/100\n",
            "391/391 [==============================] - 5s 12ms/step - loss: 0.2279 - accuracy: 0.9194 - val_loss: 0.7291 - val_accuracy: 0.8005\n",
            "Epoch 96/100\n",
            "391/391 [==============================] - 5s 12ms/step - loss: 0.2321 - accuracy: 0.9183 - val_loss: 0.7278 - val_accuracy: 0.7962\n",
            "Epoch 97/100\n",
            "391/391 [==============================] - 5s 12ms/step - loss: 0.2308 - accuracy: 0.9186 - val_loss: 0.7037 - val_accuracy: 0.8007\n",
            "Epoch 98/100\n",
            "391/391 [==============================] - 5s 12ms/step - loss: 0.2277 - accuracy: 0.9195 - val_loss: 0.7595 - val_accuracy: 0.7975\n",
            "Epoch 99/100\n",
            "391/391 [==============================] - 5s 12ms/step - loss: 0.2278 - accuracy: 0.9209 - val_loss: 0.7188 - val_accuracy: 0.7936\n",
            "Epoch 100/100\n",
            "391/391 [==============================] - 4s 11ms/step - loss: 0.2272 - accuracy: 0.9201 - val_loss: 0.7115 - val_accuracy: 0.7956\n"
          ]
        },
        {
          "output_type": "execute_result",
          "data": {
            "text/plain": [
              "<keras.callbacks.History at 0x7ff7f4479e50>"
            ]
          },
          "metadata": {},
          "execution_count": 11
        }
      ]
    },
    {
      "cell_type": "code",
      "source": [
        "acc = fit.history['accuracy']\n",
        "loss = fit.history['loss']"
      ],
      "metadata": {
        "colab": {
          "base_uri": "https://localhost:8080/",
          "height": 191
        },
        "id": "2QFSxEID5Obk",
        "outputId": "e9d4e010-5edf-456c-b2ef-2e7aead9c10d"
      },
      "execution_count": 1,
      "outputs": [
        {
          "output_type": "error",
          "ename": "NameError",
          "evalue": "ignored",
          "traceback": [
            "\u001b[0;31m---------------------------------------------------------------------------\u001b[0m",
            "\u001b[0;31mNameError\u001b[0m                                 Traceback (most recent call last)",
            "\u001b[0;32m<ipython-input-1-32356429f78f>\u001b[0m in \u001b[0;36m<module>\u001b[0;34m\u001b[0m\n\u001b[0;32m----> 1\u001b[0;31m \u001b[0macc\u001b[0m \u001b[0;34m=\u001b[0m \u001b[0mfit\u001b[0m\u001b[0;34m.\u001b[0m\u001b[0mhistory\u001b[0m\u001b[0;34m[\u001b[0m\u001b[0;34m'accuracy'\u001b[0m\u001b[0;34m]\u001b[0m\u001b[0;34m\u001b[0m\u001b[0;34m\u001b[0m\u001b[0m\n\u001b[0m\u001b[1;32m      2\u001b[0m \u001b[0mloss\u001b[0m \u001b[0;34m=\u001b[0m \u001b[0mfit\u001b[0m\u001b[0;34m.\u001b[0m\u001b[0mhistory\u001b[0m\u001b[0;34m[\u001b[0m\u001b[0;34m'loss'\u001b[0m\u001b[0;34m]\u001b[0m\u001b[0;34m\u001b[0m\u001b[0;34m\u001b[0m\u001b[0m\n",
            "\u001b[0;31mNameError\u001b[0m: name 'fit' is not defined"
          ]
        }
      ]
    },
    {
      "cell_type": "code",
      "source": [],
      "metadata": {
        "id": "IGSS63GsJ4nW"
      },
      "execution_count": null,
      "outputs": []
    }
  ]
}