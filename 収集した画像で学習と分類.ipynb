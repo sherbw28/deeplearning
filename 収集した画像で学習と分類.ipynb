{
  "cells": [
    {
      "cell_type": "markdown",
      "metadata": {
        "colab_type": "text",
        "id": "view-in-github"
      },
      "source": [
        "<a href=\"https://colab.research.google.com/github/sherbw28/class_deep/blob/main/%E5%8F%8E%E9%9B%86%E3%81%97%E3%81%9F%E7%94%BB%E5%83%8F%E3%81%A7%E5%AD%A6%E7%BF%92%E3%81%A8%E5%88%86%E9%A1%9E.ipynb\" target=\"_parent\"><img src=\"https://colab.research.google.com/assets/colab-badge.svg\" alt=\"Open In Colab\"/></a>"
      ]
    },
    {
      "cell_type": "code",
      "execution_count": null,
      "metadata": {
        "id": "iHpmy43Gavk2"
      },
      "outputs": [],
      "source": [
        "import os\n",
        "os.makedirs('sample',exist_ok = True)\n",
        "os.makedirs('output1/dog/sample',exist_ok = True)\n",
        "os.makedirs('output1/cat/sample',exist_ok = True)\n",
        "os.makedirs('img/deep_learning/dog',exist_ok = True)\n",
        "os.makedirs('img/deep_learning/cat',exist_ok = True)"
      ]
    },
    {
      "cell_type": "code",
      "execution_count": null,
      "metadata": {
        "id": "eOfUwp3kbB0q"
      },
      "outputs": [],
      "source": [
        "import cv2\n",
        "import numpy as np\n",
        "import glob as glob\n",
        "from sklearn.model_selection import train_test_split\n",
        "from keras.utils import np_utils"
      ]
    },
    {
      "cell_type": "code",
      "execution_count": null,
      "metadata": {
        "colab": {
          "base_uri": "https://localhost:8080/"
        },
        "id": "u3yuZjhYbAoH",
        "outputId": "605fe150-52d6-4cb1-d4dc-33e05b3b4cae"
      },
      "outputs": [
        {
          "name": "stdout",
          "output_type": "stream",
          "text": [
            "['dog', 'cat']\n",
            "2\n"
          ]
        }
      ],
      "source": [
        "path = 'img/deep_learning'\n",
        "folders = os.listdir(path)\n",
        "classes = [f for f in folders if os.path.isdir(os.path.join(path,f))]\n",
        "print(classes)\n",
        "n_classes = len(classes)\n",
        "print(n_classes)"
      ]
    },
    {
      "cell_type": "code",
      "execution_count": null,
      "metadata": {
        "id": "W-R-YpTi82z8"
      },
      "outputs": [],
      "source": [
        "X = []\n",
        "Y = []\n",
        "for label, class_name in enumerate(classes):\n",
        "  files = glob.glob(path + '/' + class_name + '/*jpg')\n",
        "  for file in files:\n",
        "    img = cv2.imread(file)\n",
        "    img = cv2.resize(img, dsize=(224,224))\n",
        "    X.append(img)\n",
        "    Y.append(label)"
      ]
    },
    {
      "cell_type": "code",
      "execution_count": null,
      "metadata": {
        "id": "fmGEvAl8EkW-"
      },
      "outputs": [],
      "source": [
        "X = np.array(X)\n",
        "X = X.astype('float32')\n",
        "X /= 255.0\n",
        "Y = np.array(Y)\n",
        "Y = np_utils.to_categorical(Y,n_classes)"
      ]
    },
    {
      "cell_type": "code",
      "execution_count": null,
      "metadata": {
        "colab": {
          "base_uri": "https://localhost:8080/"
        },
        "id": "F6YxStCrGI0d",
        "outputId": "e653f91a-8bd2-4643-d436-47aca158fb3a"
      },
      "outputs": [
        {
          "name": "stdout",
          "output_type": "stream",
          "text": [
            "(120, 224, 224, 3)\n",
            "(31, 224, 224, 3)\n",
            "(120, 2)\n",
            "(31, 2)\n"
          ]
        }
      ],
      "source": [
        "X_train, X_test, Y_train, Y_test = train_test_split(X,Y,test_size=0.2)\n",
        "print(X_train.shape)\n",
        "print(X_test.shape)\n",
        "print(Y_train.shape)\n",
        "print(Y_test.shape)"
      ]
    },
    {
      "cell_type": "code",
      "execution_count": null,
      "metadata": {
        "id": "XaQ1-8bRIMmq"
      },
      "outputs": [],
      "source": [
        "from keras.applications.vgg16 import VGG16\n",
        "from keras.models import Sequential, Model\n",
        "from keras.layers import Input, Activation, Dense, Flatten, Dropout\n",
        "from keras.optimizers import Adam"
      ]
    },
    {
      "cell_type": "code",
      "execution_count": null,
      "metadata": {
        "id": "O-yaebmXMMoh"
      },
      "outputs": [],
      "source": [
        "input_tensor = Input(shape=(224,224,3))\n",
        "base_model = VGG16(weights = 'imagenet', input_tensor = input_tensor, include_top = False)"
      ]
    },
    {
      "cell_type": "code",
      "execution_count": null,
      "metadata": {
        "id": "SWbUSQcJWPLi"
      },
      "outputs": [],
      "source": [
        "top_model = Sequential()\n",
        "top_model.add(Flatten(input_shape = base_model.output_shape[1:]))\n",
        "top_model.add(Dense(n_classes, activation = 'softmax'))"
      ]
    },
    {
      "cell_type": "code",
      "execution_count": null,
      "metadata": {
        "id": "V0KAQWTgYZbt"
      },
      "outputs": [],
      "source": [
        "model = Model(inputs=base_model.input, outputs = top_model(base_model.output))"
      ]
    },
    {
      "cell_type": "code",
      "execution_count": null,
      "metadata": {
        "colab": {
          "base_uri": "https://localhost:8080/"
        },
        "id": "2hVUvy2abVtu",
        "outputId": "7aaf0fde-5350-43e5-a34f-99f67cd0d29a"
      },
      "outputs": [
        {
          "name": "stdout",
          "output_type": "stream",
          "text": [
            "# layers =  20\n"
          ]
        }
      ],
      "source": [
        "for layer in model.layers[:15]:\n",
        "  layer.trainable = False\n",
        "print('# layers = ', len(model.layers))"
      ]
    },
    {
      "cell_type": "code",
      "execution_count": null,
      "metadata": {
        "id": "q0kzCHbrcU1k"
      },
      "outputs": [],
      "source": [
        "model.compile(loss = 'categorical_crossentropy', optimizer = 'adam', metrics=['accuracy'])"
      ]
    },
    {
      "cell_type": "code",
      "execution_count": null,
      "metadata": {
        "colab": {
          "base_uri": "https://localhost:8080/"
        },
        "id": "N5nrlJaReyqv",
        "outputId": "bcbd5c7c-0f26-4485-bdec-db9642e0a218"
      },
      "outputs": [
        {
          "name": "stdout",
          "output_type": "stream",
          "text": [
            "Model: \"model\"\n",
            "_________________________________________________________________\n",
            " Layer (type)                Output Shape              Param #   \n",
            "=================================================================\n",
            " input_2 (InputLayer)        [(None, 224, 224, 3)]     0         \n",
            "                                                                 \n",
            " block1_conv1 (Conv2D)       (None, 224, 224, 64)      1792      \n",
            "                                                                 \n",
            " block1_conv2 (Conv2D)       (None, 224, 224, 64)      36928     \n",
            "                                                                 \n",
            " block1_pool (MaxPooling2D)  (None, 112, 112, 64)      0         \n",
            "                                                                 \n",
            " block2_conv1 (Conv2D)       (None, 112, 112, 128)     73856     \n",
            "                                                                 \n",
            " block2_conv2 (Conv2D)       (None, 112, 112, 128)     147584    \n",
            "                                                                 \n",
            " block2_pool (MaxPooling2D)  (None, 56, 56, 128)       0         \n",
            "                                                                 \n",
            " block3_conv1 (Conv2D)       (None, 56, 56, 256)       295168    \n",
            "                                                                 \n",
            " block3_conv2 (Conv2D)       (None, 56, 56, 256)       590080    \n",
            "                                                                 \n",
            " block3_conv3 (Conv2D)       (None, 56, 56, 256)       590080    \n",
            "                                                                 \n",
            " block3_pool (MaxPooling2D)  (None, 28, 28, 256)       0         \n",
            "                                                                 \n",
            " block4_conv1 (Conv2D)       (None, 28, 28, 512)       1180160   \n",
            "                                                                 \n",
            " block4_conv2 (Conv2D)       (None, 28, 28, 512)       2359808   \n",
            "                                                                 \n",
            " block4_conv3 (Conv2D)       (None, 28, 28, 512)       2359808   \n",
            "                                                                 \n",
            " block4_pool (MaxPooling2D)  (None, 14, 14, 512)       0         \n",
            "                                                                 \n",
            " block5_conv1 (Conv2D)       (None, 14, 14, 512)       2359808   \n",
            "                                                                 \n",
            " block5_conv2 (Conv2D)       (None, 14, 14, 512)       2359808   \n",
            "                                                                 \n",
            " block5_conv3 (Conv2D)       (None, 14, 14, 512)       2359808   \n",
            "                                                                 \n",
            " block5_pool (MaxPooling2D)  (None, 7, 7, 512)         0         \n",
            "                                                                 \n",
            " sequential_1 (Sequential)   (None, 2)                 50178     \n",
            "                                                                 \n",
            "=================================================================\n",
            "Total params: 14,764,866\n",
            "Trainable params: 7,129,602\n",
            "Non-trainable params: 7,635,264\n",
            "_________________________________________________________________\n"
          ]
        }
      ],
      "source": [
        "model.summary()"
      ]
    },
    {
      "cell_type": "code",
      "execution_count": null,
      "metadata": {
        "colab": {
          "base_uri": "https://localhost:8080/"
        },
        "id": "yZKj6z_ke6oQ",
        "outputId": "de7d83b5-df60-470f-9796-b0578e6466d3"
      },
      "outputs": [
        {
          "name": "stdout",
          "output_type": "stream",
          "text": [
            "Epoch 1/20\n",
            "4/4 [==============================] - 15s 891ms/step - loss: 3.3583 - accuracy: 0.5167\n",
            "Epoch 2/20\n",
            "4/4 [==============================] - 1s 164ms/step - loss: 0.8156 - accuracy: 0.5167\n",
            "Epoch 3/20\n",
            "4/4 [==============================] - 1s 164ms/step - loss: 0.6802 - accuracy: 0.5333\n",
            "Epoch 4/20\n",
            "4/4 [==============================] - 1s 162ms/step - loss: 0.7390 - accuracy: 0.5083\n",
            "Epoch 5/20\n",
            "4/4 [==============================] - 1s 161ms/step - loss: 0.6932 - accuracy: 0.4833\n",
            "Epoch 6/20\n",
            "4/4 [==============================] - 1s 162ms/step - loss: 0.6932 - accuracy: 0.4833\n",
            "Epoch 7/20\n",
            "4/4 [==============================] - 1s 162ms/step - loss: 0.6976 - accuracy: 0.4750\n",
            "Epoch 8/20\n",
            "4/4 [==============================] - 1s 162ms/step - loss: 0.7301 - accuracy: 0.4750\n",
            "Epoch 9/20\n",
            "4/4 [==============================] - 1s 161ms/step - loss: 0.7014 - accuracy: 0.5083\n",
            "Epoch 10/20\n",
            "4/4 [==============================] - 1s 163ms/step - loss: 0.6995 - accuracy: 0.4750\n",
            "Epoch 11/20\n",
            "4/4 [==============================] - 1s 162ms/step - loss: 0.6932 - accuracy: 0.4583\n",
            "Epoch 12/20\n",
            "4/4 [==============================] - 1s 163ms/step - loss: 0.6931 - accuracy: 0.5167\n",
            "Epoch 13/20\n",
            "4/4 [==============================] - 1s 163ms/step - loss: 0.6931 - accuracy: 0.5167\n",
            "Epoch 14/20\n",
            "4/4 [==============================] - 1s 164ms/step - loss: 0.6931 - accuracy: 0.5167\n",
            "Epoch 15/20\n",
            "4/4 [==============================] - 1s 163ms/step - loss: 0.6931 - accuracy: 0.5167\n",
            "Epoch 16/20\n",
            "4/4 [==============================] - 1s 164ms/step - loss: 0.6931 - accuracy: 0.5167\n",
            "Epoch 17/20\n",
            "4/4 [==============================] - 1s 164ms/step - loss: 0.6931 - accuracy: 0.5167\n",
            "Epoch 18/20\n",
            "4/4 [==============================] - 1s 163ms/step - loss: 0.6931 - accuracy: 0.5167\n",
            "Epoch 19/20\n",
            "4/4 [==============================] - 1s 163ms/step - loss: 0.6931 - accuracy: 0.5167\n",
            "Epoch 20/20\n",
            "4/4 [==============================] - 1s 161ms/step - loss: 0.6930 - accuracy: 0.5167\n"
          ]
        },
        {
          "data": {
            "text/plain": [
              "<keras.callbacks.History at 0x7f84f17a76a0>"
            ]
          },
          "execution_count": 38,
          "metadata": {},
          "output_type": "execute_result"
        }
      ],
      "source": [
        "model.fit(X_train, Y_train, epochs=20)"
      ]
    },
    {
      "cell_type": "code",
      "execution_count": null,
      "metadata": {
        "colab": {
          "base_uri": "https://localhost:8080/"
        },
        "id": "NJmBXsDGgnZt",
        "outputId": "ff49ea72-32da-4a5c-b468-32a1c2cb8841"
      },
      "outputs": [
        {
          "name": "stdout",
          "output_type": "stream",
          "text": [
            "2/2 [==============================] - 3s 2s/step - loss: 0.6935 - accuracy: 0.4516\n"
          ]
        }
      ],
      "source": [
        "score = model.evaluate(X_test, Y_test, batch_size=16)"
      ]
    },
    {
      "cell_type": "code",
      "execution_count": null,
      "metadata": {
        "id": "J9P0T-rGh72c"
      },
      "outputs": [],
      "source": [
        "import pickle\n",
        "pickle.dump(classes, open('classes.sav', 'wb'))\n",
        "model.save('cnn.h5')"
      ]
    },
    {
      "cell_type": "code",
      "execution_count": null,
      "metadata": {
        "id": "wrlVgCX6jWmw"
      },
      "outputs": [],
      "source": [
        "from keras.models import load_model\n",
        "import pickle\n",
        "import cv2\n",
        "import glob"
      ]
    },
    {
      "cell_type": "code",
      "execution_count": null,
      "metadata": {
        "id": "j72Zoki4k-hu"
      },
      "outputs": [],
      "source": [
        "model = load_model('cnn.h5')"
      ]
    },
    {
      "cell_type": "code",
      "execution_count": null,
      "metadata": {
        "id": "HFo64VEelCSv"
      },
      "outputs": [],
      "source": [
        "classes = pickle.load(open('classes.sav','rb'))"
      ]
    },
    {
      "cell_type": "code",
      "execution_count": null,
      "metadata": {
        "colab": {
          "base_uri": "https://localhost:8080/"
        },
        "id": "85QzyN9nQdCM",
        "outputId": "11371e26-1395-4dcd-fc36-bde160f9070a"
      },
      "outputs": [
        {
          "name": "stdout",
          "output_type": "stream",
          "text": [
            "['sample/cat1.jpeg', 'sample/dog1.jpeg']\n"
          ]
        }
      ],
      "source": [
        "files = glob.glob('sample/*')\n",
        "print(files)"
      ]
    },
    {
      "cell_type": "code",
      "execution_count": null,
      "metadata": {
        "colab": {
          "base_uri": "https://localhost:8080/"
        },
        "id": "7IAQF7-BVU-q",
        "outputId": "fe52791a-ce03-4455-c50b-03a10a29d86a"
      },
      "outputs": [
        {
          "name": "stdout",
          "output_type": "stream",
          "text": [
            "1/1 [==============================] - 0s 39ms/step\n",
            "[[0.50180835 0.4981916 ]]\n",
            "0 dog\n",
            "1/1 [==============================] - 0s 68ms/step\n",
            "[[0.50180835 0.4981916 ]]\n",
            "0 dog\n"
          ]
        }
      ],
      "source": [
        "for file in files:\n",
        "  img = cv2.imread(file)\n",
        "  img2 = cv2.resize(img, dsize=(224,224))\n",
        "  img2 = img2.astype('float32')\n",
        "  img2 = img2/255.0\n",
        "  img2 = img2[None,...]\n",
        "  result = model.predict(img2)\n",
        "  print(result)\n",
        "  pred = result.argmax()\n",
        "  print(pred, str(classes[pred]))\n",
        "  cv2.imwrite('output1/' + str(classes[pred]) + '/' + file, img)\n",
        "  "
      ]
    },
    {
      "cell_type": "code",
      "execution_count": null,
      "metadata": {
        "id": "t0UMDfchX3AC"
      },
      "outputs": [],
      "source": []
    }
  ],
  "metadata": {
    "accelerator": "GPU",
    "colab": {
      "authorship_tag": "ABX9TyOUqaKVSDShHbDUSVeSnYAZ",
      "include_colab_link": true,
      "provenance": []
    },
    "gpuClass": "standard",
    "kernelspec": {
      "display_name": "Python 3",
      "name": "python3"
    },
    "language_info": {
      "name": "python"
    }
  },
  "nbformat": 4,
  "nbformat_minor": 0
}
