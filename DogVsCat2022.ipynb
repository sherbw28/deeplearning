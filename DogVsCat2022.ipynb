{
  "nbformat": 4,
  "nbformat_minor": 0,
  "metadata": {
    "colab": {
      "provenance": [],
      "collapsed_sections": [],
      "authorship_tag": "ABX9TyM7418mMs/gOO3mFeoQzQ7t",
      "include_colab_link": true
    },
    "kernelspec": {
      "name": "python3",
      "display_name": "Python 3"
    },
    "language_info": {
      "name": "python"
    }
  },
  "cells": [
    {
      "cell_type": "markdown",
      "metadata": {
        "id": "view-in-github",
        "colab_type": "text"
      },
      "source": [
        "<a href=\"https://colab.research.google.com/github/sherbw28/class_deep/blob/main/DogVsCat2022.ipynb\" target=\"_parent\"><img src=\"https://colab.research.google.com/assets/colab-badge.svg\" alt=\"Open In Colab\"/></a>"
      ]
    },
    {
      "cell_type": "markdown",
      "source": [
        "# Kerasを使用したディープラーニングをやってみる\n",
        "画像認識を行う"
      ],
      "metadata": {
        "id": "nU_CxKB05C9O"
      }
    },
    {
      "cell_type": "code",
      "execution_count": 20,
      "metadata": {
        "id": "Ymtyrwo43N6_"
      },
      "outputs": [],
      "source": [
        "%matplotlib inline\n",
        "from keras.applications.vgg16 import VGG16, preprocess_input, decode_predictions\n",
        "from keras.preprocessing import image\n",
        "from PIL import Image\n",
        "import matplotlib.pyplot as plt\n",
        "import numpy as np\n",
        "import sys"
      ]
    },
    {
      "cell_type": "markdown",
      "source": [
        "### 学習済みモデルの読み込み"
      ],
      "metadata": {
        "id": "cgkmWnnU76Tp"
      }
    },
    {
      "cell_type": "code",
      "source": [
        "model = VGG16(weights='imagenet')"
      ],
      "metadata": {
        "colab": {
          "base_uri": "https://localhost:8080/"
        },
        "id": "LtF6KokX5xVq",
        "outputId": "cb6422d1-f69d-41b6-dbfb-c59f300ed816"
      },
      "execution_count": 21,
      "outputs": [
        {
          "output_type": "stream",
          "name": "stdout",
          "text": [
            "Downloading data from https://storage.googleapis.com/tensorflow/keras-applications/vgg16/vgg16_weights_tf_dim_ordering_tf_kernels.h5\n",
            "553467904/553467096 [==============================] - 5s 0us/step\n",
            "553476096/553467096 [==============================] - 5s 0us/step\n"
          ]
        }
      ]
    },
    {
      "cell_type": "markdown",
      "source": [
        "### 画像判定のための関数"
      ],
      "metadata": {
        "id": "LeDPqNyy8yo0"
      }
    },
    {
      "cell_type": "code",
      "source": [
        "def predict(filename, featuresize):\n",
        "  img = image.load_img(filename, target_size=(224,224))\n",
        "  x = image.img_to_array(img)\n",
        "  x = np.expand_dims(x,axis=0)\n",
        "  preds = model.predict(preprocess_input(x))\n",
        "  results = decode_predictions(preds, top=featuresize)[0]\n",
        "  return results"
      ],
      "metadata": {
        "id": "Cjd5eZI48uQ6"
      },
      "execution_count": 22,
      "outputs": []
    },
    {
      "cell_type": "code",
      "source": [
        "def showimg(filename,title,i):\n",
        "  im = Image.open(filename)\n",
        "  im_list = np.asarray(im)\n",
        "  plt.subplot(2,5,i)\n",
        "  plt.title(title)\n",
        "  plt.axis('off')\n",
        "  plt.imshow(im_list)"
      ],
      "metadata": {
        "id": "euU-IVIO9ipi"
      },
      "execution_count": 23,
      "outputs": []
    },
    {
      "cell_type": "code",
      "source": [
        "!wget --load-cookies /tmp/cookies.txt \"https://drive.google.com/uc?export=download&confirm=$(wget --quiet --save-cookies /tmp/cookies.txt --keep-session-cookies --no-check-certificate 'https://drive.google.com/uc?export=download&id=1WQ9KZ-St4BqUWkqYJZYBIXQ8tT92DW_2' -O- | sed -rn 's/.*confirm=([0-9A-Za-z_]+).*/\\1\\n/p')&id=1WQ9KZ-St4BqUWkqYJZYBIXQ8tT92DW_2\" -O train.zip && rm -rf /tmp/cookies.txt"
      ],
      "metadata": {
        "id": "g29bpastBDpN",
        "colab": {
          "base_uri": "https://localhost:8080/"
        },
        "outputId": "887053f9-0647-4767-80d1-98c12e3db5ca"
      },
      "execution_count": null,
      "outputs": [
        {
          "output_type": "stream",
          "name": "stdout",
          "text": [
            "--2022-10-04 00:38:15--  https://drive.google.com/uc?export=download&confirm=t&id=1WQ9KZ-St4BqUWkqYJZYBIXQ8tT92DW_2\n",
            "Resolving drive.google.com (drive.google.com)... 74.125.142.100, 74.125.142.139, 74.125.142.101, ...\n",
            "Connecting to drive.google.com (drive.google.com)|74.125.142.100|:443... connected.\n",
            "HTTP request sent, awaiting response... 303 See Other\n",
            "Location: https://doc-0k-1s-docs.googleusercontent.com/docs/securesc/ha0ro937gcuc7l7deffksulhg5h7mbp1/9vcc10um436joopjqffghfb1i37cuq0r/1664843850000/14334177730080324288/*/1WQ9KZ-St4BqUWkqYJZYBIXQ8tT92DW_2?e=download&uuid=fe801f6f-9a14-4fc1-b3a8-d4b750942231 [following]\n",
            "Warning: wildcards not supported in HTTP.\n",
            "--2022-10-04 00:38:15--  https://doc-0k-1s-docs.googleusercontent.com/docs/securesc/ha0ro937gcuc7l7deffksulhg5h7mbp1/9vcc10um436joopjqffghfb1i37cuq0r/1664843850000/14334177730080324288/*/1WQ9KZ-St4BqUWkqYJZYBIXQ8tT92DW_2?e=download&uuid=fe801f6f-9a14-4fc1-b3a8-d4b750942231\n",
            "Resolving doc-0k-1s-docs.googleusercontent.com (doc-0k-1s-docs.googleusercontent.com)... 173.194.202.132, 2607:f8b0:400e:c00::84\n",
            "Connecting to doc-0k-1s-docs.googleusercontent.com (doc-0k-1s-docs.googleusercontent.com)|173.194.202.132|:443... connected.\n",
            "HTTP request sent, awaiting response... 200 OK\n",
            "Length: 569872234 (543M) [application/x-zip-compressed]\n",
            "Saving to: ‘train.zip’\n",
            "\n",
            "train.zip           100%[===================>] 543.47M   104MB/s    in 5.9s    \n",
            "\n",
            "2022-10-04 00:38:21 (91.8 MB/s) - ‘train.zip’ saved [569872234/569872234]\n",
            "\n"
          ]
        }
      ]
    },
    {
      "cell_type": "code",
      "source": [
        "!wget --load-cookies /tmp/cookies.txt \"https://drive.google.com/uc?export=download&confirm=$(wget --quiet --save-cookies /tmp/cookies.txt --keep-session-cookies --no-check-certificate 'https://drive.google.com/uc?export=download&id=1WQ9KZ-St4BqUWkqYJZYBIXQ8tT92DW_2' -O- | sed -rn 's/.*confirm=([0-9A-Za-z_]+).*/\\1\\n/p')&id=1WQ9KZ-St4BqUWkqYJZYBIXQ8tT92DW_2\" -O test.zip && rm -rf /tmp/cookies.txt"
      ],
      "metadata": {
        "colab": {
          "base_uri": "https://localhost:8080/"
        },
        "id": "HCiVha5Pw7cw",
        "outputId": "67189326-6ef9-4ef6-a282-8eed493e9a7f"
      },
      "execution_count": null,
      "outputs": [
        {
          "output_type": "stream",
          "name": "stdout",
          "text": [
            "--2022-10-04 00:38:22--  https://drive.google.com/uc?export=download&confirm=t&id=1WQ9KZ-St4BqUWkqYJZYBIXQ8tT92DW_2\n",
            "Resolving drive.google.com (drive.google.com)... 74.125.142.100, 74.125.142.139, 74.125.142.101, ...\n",
            "Connecting to drive.google.com (drive.google.com)|74.125.142.100|:443... connected.\n",
            "HTTP request sent, awaiting response... 303 See Other\n",
            "Location: https://doc-0k-1s-docs.googleusercontent.com/docs/securesc/ha0ro937gcuc7l7deffksulhg5h7mbp1/9vcc10um436joopjqffghfb1i37cuq0r/1664843850000/14334177730080324288/*/1WQ9KZ-St4BqUWkqYJZYBIXQ8tT92DW_2?e=download&uuid=4e38f0ca-0795-4062-b72f-9673b64b6fe9 [following]\n",
            "Warning: wildcards not supported in HTTP.\n",
            "--2022-10-04 00:38:22--  https://doc-0k-1s-docs.googleusercontent.com/docs/securesc/ha0ro937gcuc7l7deffksulhg5h7mbp1/9vcc10um436joopjqffghfb1i37cuq0r/1664843850000/14334177730080324288/*/1WQ9KZ-St4BqUWkqYJZYBIXQ8tT92DW_2?e=download&uuid=4e38f0ca-0795-4062-b72f-9673b64b6fe9\n",
            "Resolving doc-0k-1s-docs.googleusercontent.com (doc-0k-1s-docs.googleusercontent.com)... 173.194.202.132, 2607:f8b0:400e:c00::84\n",
            "Connecting to doc-0k-1s-docs.googleusercontent.com (doc-0k-1s-docs.googleusercontent.com)|173.194.202.132|:443... connected.\n",
            "HTTP request sent, awaiting response... 200 OK\n",
            "Length: 569872234 (543M) [application/x-zip-compressed]\n",
            "Saving to: ‘test.zip’\n",
            "\n",
            "test.zip            100%[===================>] 543.47M   211MB/s    in 2.6s    \n",
            "\n",
            "2022-10-04 00:38:25 (211 MB/s) - ‘test.zip’ saved [569872234/569872234]\n",
            "\n"
          ]
        }
      ]
    },
    {
      "cell_type": "code",
      "source": [
        "filename = 'cat.101.jpg'\n",
        "plt.figure(figsize=(20,10))\n",
        "for i in range(1):\n",
        "  showimg(filename,'query', i+1)\n",
        "plt.show()\n",
        "results = predict(filename,10)\n",
        "for result in results:\n",
        "  print(result)"
      ],
      "metadata": {
        "colab": {
          "base_uri": "https://localhost:8080/",
          "height": 409
        },
        "id": "qx5wwiCYbg4n",
        "outputId": "09c91f79-5551-4c2d-c3e6-334dd1d2e201"
      },
      "execution_count": 24,
      "outputs": [
        {
          "output_type": "display_data",
          "data": {
            "text/plain": [
              "<Figure size 1440x720 with 1 Axes>"
            ],
            "image/png": "[encoded data removed]"
          },
          "metadata": {
            "needs_background": "light"
          }
        },
        {
          "output_type": "stream",
          "name": "stdout",
          "text": [
            "Downloading data from https://storage.googleapis.com/download.tensorflow.org/data/imagenet_class_index.json\n",
            "40960/35363 [==================================] - 0s 0us/step\n",
            "49152/35363 [=========================================] - 0s 0us/step\n",
            "('n02105056', 'groenendael', 0.24618655)\n",
            "('n02123394', 'Persian_cat', 0.17262845)\n",
            "('n02106382', 'Bouvier_des_Flandres', 0.09002146)\n",
            "('n03325584', 'feather_boa', 0.05190794)\n",
            "('n02124075', 'Egyptian_cat', 0.048290268)\n",
            "('n03598930', 'jigsaw_puzzle', 0.03581146)\n",
            "('n02110627', 'affenpinscher', 0.034931336)\n",
            "('n02097298', 'Scotch_terrier', 0.025723452)\n",
            "('n02127052', 'lynx', 0.021893863)\n",
            "('n02104365', 'schipperke', 0.02058028)\n"
          ]
        }
      ]
    },
    {
      "cell_type": "code",
      "source": [
        "filename = 'train/dog.8035.jpg'\n",
        "plt.figure(figsize=(20,10))\n",
        "for i in range(1):\n",
        "  showimg(filename,'query', i+1)\n",
        "plt.show()\n",
        "results = predict(filename,10)\n",
        "for result in results:\n",
        "  print(result)"
      ],
      "metadata": {
        "id": "KqODziN_b5c_"
      },
      "execution_count": null,
      "outputs": []
    },
    {
      "cell_type": "code",
      "source": [
        "from google.colab import drive\n",
        "drive.mount('/content/drive')"
      ],
      "metadata": {
        "colab": {
          "base_uri": "https://localhost:8080/"
        },
        "id": "1tr6ETG4w_oe",
        "outputId": "a6d0416e-781b-44af-d92c-c2acf7eed0e0"
      },
      "execution_count": null,
      "outputs": [
        {
          "output_type": "stream",
          "name": "stdout",
          "text": [
            "Mounted at /content/drive\n"
          ]
        }
      ]
    },
    {
      "cell_type": "code",
      "source": [
        "import os\n",
        "dir_path = '/content/drive/My Drive/2022LATE'\n",
        "os.makedirs(dir_path, exist_ok=True)\n",
        "!pwd"
      ],
      "metadata": {
        "colab": {
          "base_uri": "https://localhost:8080/"
        },
        "id": "wlWx9MRAzprV",
        "outputId": "7b9f7907-4766-4e1c-d102-d952973a023b"
      },
      "execution_count": null,
      "outputs": [
        {
          "output_type": "stream",
          "name": "stdout",
          "text": [
            "/content\n"
          ]
        }
      ]
    },
    {
      "cell_type": "code",
      "source": [
        "!cp '/content/drive/My Drive/2022LATE/train.zip'"
      ],
      "metadata": {
        "colab": {
          "base_uri": "https://localhost:8080/"
        },
        "id": "JLh0tz8Sd-eb",
        "outputId": "b26b41bb-b67e-4336-b640-a53604580c7a"
      },
      "execution_count": null,
      "outputs": [
        {
          "output_type": "stream",
          "name": "stdout",
          "text": [
            "cp: missing destination file operand after '/content/drive/My Drive/2022LATE/train.zip'\n",
            "Try 'cp --help' for more information.\n"
          ]
        }
      ]
    },
    {
      "cell_type": "code",
      "source": [
        "!unisip -o -q 'train.zip'\n",
        "print(\"zip解凍完了\")"
      ],
      "metadata": {
        "colab": {
          "base_uri": "https://localhost:8080/"
        },
        "id": "5-a0ZMZ12Xhh",
        "outputId": "10fbd15d-9879-4090-dd76-6362dbebbb6e"
      },
      "execution_count": 16,
      "outputs": [
        {
          "output_type": "stream",
          "name": "stdout",
          "text": [
            "/bin/bash: unisip: command not found\n",
            "zip解凍完了\n"
          ]
        }
      ]
    },
    {
      "cell_type": "code",
      "source": [
        "pwd"
      ],
      "metadata": {
        "id": "pTKG5Z_55iZH",
        "colab": {
          "base_uri": "https://localhost:8080/",
          "height": 35
        },
        "outputId": "892b1cdf-6039-41be-81d1-afe3f7028834"
      },
      "execution_count": 17,
      "outputs": [
        {
          "output_type": "execute_result",
          "data": {
            "text/plain": [
              "'/content'"
            ],
            "application/vnd.google.colaboratory.intrinsic+json": {
              "type": "string"
            }
          },
          "metadata": {},
          "execution_count": 17
        }
      ]
    },
    {
      "cell_type": "code",
      "source": [],
      "metadata": {
        "id": "pkUW4hxthnSB"
      },
      "execution_count": null,
      "outputs": []
    }
  ]
}