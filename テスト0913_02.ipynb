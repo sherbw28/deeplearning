{
  "cells": [
    {
      "cell_type": "markdown",
      "metadata": {
        "colab_type": "text",
        "id": "view-in-github"
      },
      "source": [
        "<a href=\"https://colab.research.google.com/github/sherbw28/class_deep/blob/main/%E3%83%86%E3%82%B9%E3%83%880913_02.ipynb\" target=\"_parent\"><img src=\"https://colab.research.google.com/assets/colab-badge.svg\" alt=\"Open In Colab\"/></a>"
      ]
    },
    {
      "cell_type": "markdown",
      "metadata": {
        "id": "ewiSIwCHy-s8"
      },
      "source": [
        "# 辞書型(dictionary)\n",
        "キーと値のペアで管理する"
      ]
    },
    {
      "cell_type": "markdown",
      "metadata": {
        "id": "3r7lbxxbzcRI"
      },
      "source": [
        "## 辞書型の定義文"
      ]
    },
    {
      "cell_type": "code",
      "execution_count": null,
      "metadata": {
        "colab": {
          "base_uri": "https://localhost:8080/"
        },
        "id": "hGsQ1Qp1zg6x",
        "outputId": "aed94dec-d5ac-46ab-ae42-a834b292fb09"
      },
      "outputs": [
        {
          "name": "stdout",
          "output_type": "stream",
          "text": [
            "{'アップル': 1, 'ペン': 2, 'パイナップル': 3}\n",
            "2\n"
          ]
        }
      ],
      "source": [
        "dict = {'アップル':1,'ペン':2,\"パイナップル\":3}\n",
        "print(dict)\n",
        "print(dict['ペン'])"
      ]
    },
    {
      "cell_type": "markdown",
      "metadata": {
        "id": "tffw1jGI1IgH"
      },
      "source": [
        "## 辞書型の追加・削除・更新"
      ]
    },
    {
      "cell_type": "code",
      "execution_count": null,
      "metadata": {
        "colab": {
          "base_uri": "https://localhost:8080/"
        },
        "id": "Ui80u_8C1Tfq",
        "outputId": "62ec89ca-2263-47ae-fef8-8ce31d5c7844"
      },
      "outputs": [
        {
          "name": "stdout",
          "output_type": "stream",
          "text": [
            "{'アップル': 1, 'ペン': 2, 'パイナップル': 3, 'バナナ': 100}\n",
            "{'アップル': 1, 'ペン': 2, 'パイナップル': 3, 'バナナ': 5}\n",
            "{'アップル': 1, 'ペン': 2, 'パイナップル': 3, 'バナナ': 100}\n",
            "{'アップル': 1, 'ペン': 2, 'パイナップル': 3}\n"
          ]
        }
      ],
      "source": [
        "print(dict)\n",
        "dict['バナナ'] = 5\n",
        "print(dict)\n",
        "dict[\"バナナ\"] = 100\n",
        "print(dict)\n",
        "dict.pop(\"バナナ\")\n",
        "print(dict)"
      ]
    },
    {
      "cell_type": "markdown",
      "metadata": {
        "id": "IaxyQ4dW40IY"
      },
      "source": [
        "# 文字列の整形\n",
        "文字列の連結と繰り返し"
      ]
    },
    {
      "cell_type": "code",
      "execution_count": null,
      "metadata": {
        "colab": {
          "base_uri": "https://localhost:8080/"
        },
        "id": "d5jLbLtk44T1",
        "outputId": "66185015-e919-42fe-9756-5da64829d327"
      },
      "outputs": [
        {
          "name": "stdout",
          "output_type": "stream",
          "text": [
            "アップルペン\n",
            "ペン パイナップル アップル ペン\n",
            "ポンポンポン\n"
          ]
        }
      ],
      "source": [
        "apple = 'アップル'\n",
        "pen = 'ペン'\n",
        "print(apple + pen)\n",
        "piko = ['ペン','パイナップル','アップル','ペン']\n",
        "print(' '.join(piko))\n",
        "pon = \"ポン\"\n",
        "print(pon * 3)"
      ]
    },
    {
      "cell_type": "markdown",
      "metadata": {
        "id": "J27nQspy7Hkg"
      },
      "source": [
        "## 【重要】文字列の整形(フォーマット)"
      ]
    },
    {
      "cell_type": "code",
      "execution_count": null,
      "metadata": {
        "colab": {
          "base_uri": "https://localhost:8080/"
        },
        "id": "wi_tefak7PaM",
        "outputId": "4366fe3b-3395-4602-9327-447f2d3214d6"
      },
      "outputs": [
        {
          "name": "stdout",
          "output_type": "stream",
          "text": [
            "アップル ペン:パイナップル\n"
          ]
        }
      ],
      "source": [
        "print('{} {}:{}'.format(\"アップル\",\"ペン\",\"パイナップル\"))"
      ]
    },
    {
      "cell_type": "markdown",
      "metadata": {
        "id": "dIYof8-3XCJP"
      },
      "source": [
        "# コレクション演算\n",
        "リスト、タプル、つまり順番がある集合のことをシーケンスという。\n",
        "順番がない集合を（セット）という。\n",
        "上記２種類をまとめてコレクションという。\n",
        "コレクションは共通の演算が使える。\n",
        "len(長さ、量を取得）、max(最大値を取得),min(最小値を取得)など"
      ]
    },
    {
      "cell_type": "code",
      "execution_count": 2,
      "metadata": {
        "colab": {
          "base_uri": "https://localhost:8080/"
        },
        "id": "li3RHCZ-XKu6",
        "outputId": "b6475171-b2e4-410d-d613-33462946168c"
      },
      "outputs": [
        {
          "name": "stdout",
          "output_type": "stream",
          "text": [
            "6 5 1\n",
            "7 10 7\n",
            "8 8 -6\n"
          ]
        }
      ],
      "source": [
        "list = [1,1,2,3,4,5] #6つの要素\n",
        "tuple = (10,9,7,7,8,8,9)\n",
        "set = {1,-2,3,-4,5,-6,7,8}\n",
        "print(len(list),max(list),min(list))\n",
        "print(len(tuple),max(tuple),min(tuple))\n",
        "print(len(set),max(set),min(set))\n"
      ]
    },
    {
      "cell_type": "code",
      "execution_count": null,
      "metadata": {
        "id": "dSw3z1xKYzHM"
      },
      "outputs": [],
      "source": []
    }
  ],
  "metadata": {
    "colab": {
      "authorship_tag": "ABX9TyOmh70KASWdAR7550zJj5GV",
      "include_colab_link": true,
      "provenance": [],
      "toc_visible": true
    },
    "kernelspec": {
      "display_name": "Python 3",
      "name": "python3"
    },
    "language_info": {
      "name": "python"
    }
  },
  "nbformat": 4,
  "nbformat_minor": 0
}
